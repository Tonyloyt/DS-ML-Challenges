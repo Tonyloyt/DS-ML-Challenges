{
 "cells": [
  {
   "cell_type": "markdown",
   "metadata": {
    "id": "W06ZDNpGObr9"
   },
   "source": [
    "#### OBJECTIVE OF THE CHALLENGE"
   ]
  },
  {
   "cell_type": "markdown",
   "metadata": {
    "id": "S0b5Q0UTObsD"
   },
   "source": [
    "The challenge is organised by pyconTz with support from zindi Africa,is about to create the machine learning Model to\n",
    "predict the cost expected to be spent by tourist when vist Tanzania national parks.\n",
    "\n",
    "This is Regression problem.\n",
    "\n",
    "The Evaluation of the solution is Mean Absolute Error.\n"
   ]
  },
  {
   "cell_type": "code",
   "execution_count": 1,
   "metadata": {
    "colab": {
     "base_uri": "https://localhost:8080/"
    },
    "executionInfo": {
     "elapsed": 46430,
     "status": "ok",
     "timestamp": 1607963765762,
     "user": {
      "displayName": "ANTHONY HILA",
      "photoUrl": "https://lh3.googleusercontent.com/a-/AOh14GjKFCVT4z-M6jvu_Q2zlkNMrMUR1glN7PerIjxagw=s64",
      "userId": "18008548834088300151"
     },
     "user_tz": -180
    },
    "id": "87HqWxdiPCNl",
    "outputId": "e5e04c13-b013-4ce4-ebad-426db6ee8db2"
   },
   "outputs": [
    {
     "name": "stdout",
     "output_type": "stream",
     "text": [
      "Mounted at /content/drive\n"
     ]
    }
   ],
   "source": [
    "from google.colab import drive\n",
    "drive.mount('/content/drive')"
   ]
  },
  {
   "cell_type": "markdown",
   "metadata": {
    "id": "K5HmtOpPObsD"
   },
   "source": [
    "#### IMPORT NECESSARY LIBRARIES"
   ]
  },
  {
   "cell_type": "code",
   "execution_count": 3,
   "metadata": {
    "executionInfo": {
     "elapsed": 14155,
     "status": "ok",
     "timestamp": 1607963786957,
     "user": {
      "displayName": "ANTHONY HILA",
      "photoUrl": "https://lh3.googleusercontent.com/a-/AOh14GjKFCVT4z-M6jvu_Q2zlkNMrMUR1glN7PerIjxagw=s64",
      "userId": "18008548834088300151"
     },
     "user_tz": -180
    },
    "id": "sClaLRbiObsE"
   },
   "outputs": [],
   "source": [
    "import pandas as pd\n",
    "import numpy as np\n",
    "import seaborn as sns\n",
    "import matplotlib.pyplot as plt\n",
    "import os\n",
    "\n",
    "from sklearn.metrics import mean_absolute_error \n",
    "\n",
    "import warnings\n",
    "warnings.filterwarnings('ignore')"
   ]
  },
  {
   "cell_type": "markdown",
   "metadata": {
    "id": "IldBSZsKObsE"
   },
   "source": [
    "#### LOAD DATA"
   ]
  },
  {
   "cell_type": "code",
   "execution_count": 4,
   "metadata": {
    "executionInfo": {
     "elapsed": 12958,
     "status": "ok",
     "timestamp": 1607963786962,
     "user": {
      "displayName": "ANTHONY HILA",
      "photoUrl": "https://lh3.googleusercontent.com/a-/AOh14GjKFCVT4z-M6jvu_Q2zlkNMrMUR1glN7PerIjxagw=s64",
      "userId": "18008548834088300151"
     },
     "user_tz": -180
    },
    "id": "Ooe2xrOSP9cd"
   },
   "outputs": [],
   "source": [
    "os.chdir('/content/drive/MyDrive/TourismTz2020')"
   ]
  },
  {
   "cell_type": "code",
   "execution_count": 5,
   "metadata": {
    "executionInfo": {
     "elapsed": 15867,
     "status": "ok",
     "timestamp": 1607963790075,
     "user": {
      "displayName": "ANTHONY HILA",
      "photoUrl": "https://lh3.googleusercontent.com/a-/AOh14GjKFCVT4z-M6jvu_Q2zlkNMrMUR1glN7PerIjxagw=s64",
      "userId": "18008548834088300151"
     },
     "user_tz": -180
    },
    "id": "UTxwc5Q9ObsF"
   },
   "outputs": [],
   "source": [
    "train=pd.read_csv(\"Data/Train.csv\")\n",
    "test=pd.read_csv(\"Data/Test.csv\")\n",
    "sub=pd.read_csv(\"Data/SampleSubmission.csv\")\n",
    "desc=pd.read_csv(\"Data/VariableDefinitions.csv\")"
   ]
  },
  {
   "cell_type": "code",
   "execution_count": 6,
   "metadata": {
    "colab": {
     "base_uri": "https://localhost:8080/",
     "height": 422
    },
    "executionInfo": {
     "elapsed": 15573,
     "status": "ok",
     "timestamp": 1607963790087,
     "user": {
      "displayName": "ANTHONY HILA",
      "photoUrl": "https://lh3.googleusercontent.com/a-/AOh14GjKFCVT4z-M6jvu_Q2zlkNMrMUR1glN7PerIjxagw=s64",
      "userId": "18008548834088300151"
     },
     "user_tz": -180
    },
    "id": "vTpnWraQObsF",
    "outputId": "7ee66ffe-a423-4b14-a315-6e77f4b65ff3"
   },
   "outputs": [
    {
     "data": {
      "text/html": [
       "<div>\n",
       "<style scoped>\n",
       "    .dataframe tbody tr th:only-of-type {\n",
       "        vertical-align: middle;\n",
       "    }\n",
       "\n",
       "    .dataframe tbody tr th {\n",
       "        vertical-align: top;\n",
       "    }\n",
       "\n",
       "    .dataframe thead th {\n",
       "        text-align: right;\n",
       "    }\n",
       "</style>\n",
       "<table border=\"1\" class=\"dataframe\">\n",
       "  <thead>\n",
       "    <tr style=\"text-align: right;\">\n",
       "      <th></th>\n",
       "      <th>ID</th>\n",
       "      <th>country</th>\n",
       "      <th>age_group</th>\n",
       "      <th>travel_with</th>\n",
       "      <th>total_female</th>\n",
       "      <th>total_male</th>\n",
       "      <th>purpose</th>\n",
       "      <th>main_activity</th>\n",
       "      <th>info_source</th>\n",
       "      <th>tour_arrangement</th>\n",
       "      <th>package_transport_int</th>\n",
       "      <th>package_accomodation</th>\n",
       "      <th>package_food</th>\n",
       "      <th>package_transport_tz</th>\n",
       "      <th>package_sightseeing</th>\n",
       "      <th>package_guided_tour</th>\n",
       "      <th>package_insurance</th>\n",
       "      <th>night_mainland</th>\n",
       "      <th>night_zanzibar</th>\n",
       "      <th>payment_mode</th>\n",
       "      <th>first_trip_tz</th>\n",
       "      <th>most_impressing</th>\n",
       "      <th>total_cost</th>\n",
       "    </tr>\n",
       "  </thead>\n",
       "  <tbody>\n",
       "    <tr>\n",
       "      <th>0</th>\n",
       "      <td>tour_0</td>\n",
       "      <td>SWIZERLAND</td>\n",
       "      <td>45-64</td>\n",
       "      <td>Friends/Relatives</td>\n",
       "      <td>1.0</td>\n",
       "      <td>1.0</td>\n",
       "      <td>Leisure and Holidays</td>\n",
       "      <td>Wildlife tourism</td>\n",
       "      <td>Friends, relatives</td>\n",
       "      <td>Independent</td>\n",
       "      <td>No</td>\n",
       "      <td>No</td>\n",
       "      <td>No</td>\n",
       "      <td>No</td>\n",
       "      <td>No</td>\n",
       "      <td>No</td>\n",
       "      <td>No</td>\n",
       "      <td>13.0</td>\n",
       "      <td>0.0</td>\n",
       "      <td>Cash</td>\n",
       "      <td>No</td>\n",
       "      <td>Friendly People</td>\n",
       "      <td>674602.5</td>\n",
       "    </tr>\n",
       "    <tr>\n",
       "      <th>1</th>\n",
       "      <td>tour_10</td>\n",
       "      <td>UNITED KINGDOM</td>\n",
       "      <td>25-44</td>\n",
       "      <td>NaN</td>\n",
       "      <td>1.0</td>\n",
       "      <td>0.0</td>\n",
       "      <td>Leisure and Holidays</td>\n",
       "      <td>Cultural tourism</td>\n",
       "      <td>others</td>\n",
       "      <td>Independent</td>\n",
       "      <td>No</td>\n",
       "      <td>No</td>\n",
       "      <td>No</td>\n",
       "      <td>No</td>\n",
       "      <td>No</td>\n",
       "      <td>No</td>\n",
       "      <td>No</td>\n",
       "      <td>14.0</td>\n",
       "      <td>7.0</td>\n",
       "      <td>Cash</td>\n",
       "      <td>Yes</td>\n",
       "      <td>Wonderful Country, Landscape, Nature</td>\n",
       "      <td>3214906.5</td>\n",
       "    </tr>\n",
       "    <tr>\n",
       "      <th>2</th>\n",
       "      <td>tour_1000</td>\n",
       "      <td>UNITED KINGDOM</td>\n",
       "      <td>25-44</td>\n",
       "      <td>Alone</td>\n",
       "      <td>0.0</td>\n",
       "      <td>1.0</td>\n",
       "      <td>Visiting Friends and Relatives</td>\n",
       "      <td>Cultural tourism</td>\n",
       "      <td>Friends, relatives</td>\n",
       "      <td>Independent</td>\n",
       "      <td>No</td>\n",
       "      <td>No</td>\n",
       "      <td>No</td>\n",
       "      <td>No</td>\n",
       "      <td>No</td>\n",
       "      <td>No</td>\n",
       "      <td>No</td>\n",
       "      <td>1.0</td>\n",
       "      <td>31.0</td>\n",
       "      <td>Cash</td>\n",
       "      <td>No</td>\n",
       "      <td>Excellent Experience</td>\n",
       "      <td>3315000.0</td>\n",
       "    </tr>\n",
       "    <tr>\n",
       "      <th>3</th>\n",
       "      <td>tour_1002</td>\n",
       "      <td>UNITED KINGDOM</td>\n",
       "      <td>25-44</td>\n",
       "      <td>Spouse</td>\n",
       "      <td>1.0</td>\n",
       "      <td>1.0</td>\n",
       "      <td>Leisure and Holidays</td>\n",
       "      <td>Wildlife tourism</td>\n",
       "      <td>Travel, agent, tour operator</td>\n",
       "      <td>Package Tour</td>\n",
       "      <td>No</td>\n",
       "      <td>Yes</td>\n",
       "      <td>Yes</td>\n",
       "      <td>Yes</td>\n",
       "      <td>Yes</td>\n",
       "      <td>Yes</td>\n",
       "      <td>No</td>\n",
       "      <td>11.0</td>\n",
       "      <td>0.0</td>\n",
       "      <td>Cash</td>\n",
       "      <td>Yes</td>\n",
       "      <td>Friendly People</td>\n",
       "      <td>7790250.0</td>\n",
       "    </tr>\n",
       "    <tr>\n",
       "      <th>4</th>\n",
       "      <td>tour_1004</td>\n",
       "      <td>CHINA</td>\n",
       "      <td>1-24</td>\n",
       "      <td>NaN</td>\n",
       "      <td>1.0</td>\n",
       "      <td>0.0</td>\n",
       "      <td>Leisure and Holidays</td>\n",
       "      <td>Wildlife tourism</td>\n",
       "      <td>Travel, agent, tour operator</td>\n",
       "      <td>Independent</td>\n",
       "      <td>No</td>\n",
       "      <td>No</td>\n",
       "      <td>No</td>\n",
       "      <td>No</td>\n",
       "      <td>No</td>\n",
       "      <td>No</td>\n",
       "      <td>No</td>\n",
       "      <td>7.0</td>\n",
       "      <td>4.0</td>\n",
       "      <td>Cash</td>\n",
       "      <td>Yes</td>\n",
       "      <td>No comments</td>\n",
       "      <td>1657500.0</td>\n",
       "    </tr>\n",
       "  </tbody>\n",
       "</table>\n",
       "</div>"
      ],
      "text/plain": [
       "          ID         country  ...                       most_impressing total_cost\n",
       "0     tour_0      SWIZERLAND  ...                       Friendly People   674602.5\n",
       "1    tour_10  UNITED KINGDOM  ...  Wonderful Country, Landscape, Nature  3214906.5\n",
       "2  tour_1000  UNITED KINGDOM  ...                  Excellent Experience  3315000.0\n",
       "3  tour_1002  UNITED KINGDOM  ...                       Friendly People  7790250.0\n",
       "4  tour_1004           CHINA  ...                           No comments  1657500.0\n",
       "\n",
       "[5 rows x 23 columns]"
      ]
     },
     "execution_count": 6,
     "metadata": {
      "tags": []
     },
     "output_type": "execute_result"
    }
   ],
   "source": [
    "train.head(5)"
   ]
  },
  {
   "cell_type": "code",
   "execution_count": 7,
   "metadata": {
    "colab": {
     "base_uri": "https://localhost:8080/",
     "height": 405
    },
    "executionInfo": {
     "elapsed": 15314,
     "status": "ok",
     "timestamp": 1607963790089,
     "user": {
      "displayName": "ANTHONY HILA",
      "photoUrl": "https://lh3.googleusercontent.com/a-/AOh14GjKFCVT4z-M6jvu_Q2zlkNMrMUR1glN7PerIjxagw=s64",
      "userId": "18008548834088300151"
     },
     "user_tz": -180
    },
    "id": "o8qn2Kl2ObsG",
    "outputId": "80d07975-d5a7-4b64-9d46-dc7f7275f994"
   },
   "outputs": [
    {
     "data": {
      "text/html": [
       "<div>\n",
       "<style scoped>\n",
       "    .dataframe tbody tr th:only-of-type {\n",
       "        vertical-align: middle;\n",
       "    }\n",
       "\n",
       "    .dataframe tbody tr th {\n",
       "        vertical-align: top;\n",
       "    }\n",
       "\n",
       "    .dataframe thead th {\n",
       "        text-align: right;\n",
       "    }\n",
       "</style>\n",
       "<table border=\"1\" class=\"dataframe\">\n",
       "  <thead>\n",
       "    <tr style=\"text-align: right;\">\n",
       "      <th></th>\n",
       "      <th>ID</th>\n",
       "      <th>country</th>\n",
       "      <th>age_group</th>\n",
       "      <th>travel_with</th>\n",
       "      <th>total_female</th>\n",
       "      <th>total_male</th>\n",
       "      <th>purpose</th>\n",
       "      <th>main_activity</th>\n",
       "      <th>info_source</th>\n",
       "      <th>tour_arrangement</th>\n",
       "      <th>package_transport_int</th>\n",
       "      <th>package_accomodation</th>\n",
       "      <th>package_food</th>\n",
       "      <th>package_transport_tz</th>\n",
       "      <th>package_sightseeing</th>\n",
       "      <th>package_guided_tour</th>\n",
       "      <th>package_insurance</th>\n",
       "      <th>night_mainland</th>\n",
       "      <th>night_zanzibar</th>\n",
       "      <th>payment_mode</th>\n",
       "      <th>first_trip_tz</th>\n",
       "      <th>most_impressing</th>\n",
       "    </tr>\n",
       "  </thead>\n",
       "  <tbody>\n",
       "    <tr>\n",
       "      <th>0</th>\n",
       "      <td>tour_1</td>\n",
       "      <td>AUSTRALIA</td>\n",
       "      <td>45-64</td>\n",
       "      <td>Spouse</td>\n",
       "      <td>1.0</td>\n",
       "      <td>1.0</td>\n",
       "      <td>Leisure and Holidays</td>\n",
       "      <td>Wildlife tourism</td>\n",
       "      <td>Travel, agent, tour operator</td>\n",
       "      <td>Package Tour</td>\n",
       "      <td>Yes</td>\n",
       "      <td>Yes</td>\n",
       "      <td>Yes</td>\n",
       "      <td>Yes</td>\n",
       "      <td>Yes</td>\n",
       "      <td>Yes</td>\n",
       "      <td>Yes</td>\n",
       "      <td>10</td>\n",
       "      <td>3</td>\n",
       "      <td>Cash</td>\n",
       "      <td>Yes</td>\n",
       "      <td>Wildlife</td>\n",
       "    </tr>\n",
       "    <tr>\n",
       "      <th>1</th>\n",
       "      <td>tour_100</td>\n",
       "      <td>SOUTH AFRICA</td>\n",
       "      <td>25-44</td>\n",
       "      <td>Friends/Relatives</td>\n",
       "      <td>0.0</td>\n",
       "      <td>4.0</td>\n",
       "      <td>Business</td>\n",
       "      <td>Wildlife tourism</td>\n",
       "      <td>Tanzania Mission Abroad</td>\n",
       "      <td>Package Tour</td>\n",
       "      <td>Yes</td>\n",
       "      <td>Yes</td>\n",
       "      <td>No</td>\n",
       "      <td>No</td>\n",
       "      <td>No</td>\n",
       "      <td>No</td>\n",
       "      <td>No</td>\n",
       "      <td>13</td>\n",
       "      <td>0</td>\n",
       "      <td>Cash</td>\n",
       "      <td>No</td>\n",
       "      <td>Wonderful Country, Landscape, Nature</td>\n",
       "    </tr>\n",
       "    <tr>\n",
       "      <th>2</th>\n",
       "      <td>tour_1001</td>\n",
       "      <td>GERMANY</td>\n",
       "      <td>25-44</td>\n",
       "      <td>Friends/Relatives</td>\n",
       "      <td>3.0</td>\n",
       "      <td>0.0</td>\n",
       "      <td>Leisure and Holidays</td>\n",
       "      <td>Beach tourism</td>\n",
       "      <td>Friends, relatives</td>\n",
       "      <td>Independent</td>\n",
       "      <td>No</td>\n",
       "      <td>No</td>\n",
       "      <td>No</td>\n",
       "      <td>No</td>\n",
       "      <td>No</td>\n",
       "      <td>No</td>\n",
       "      <td>No</td>\n",
       "      <td>7</td>\n",
       "      <td>14</td>\n",
       "      <td>Cash</td>\n",
       "      <td>No</td>\n",
       "      <td>No comments</td>\n",
       "    </tr>\n",
       "    <tr>\n",
       "      <th>3</th>\n",
       "      <td>tour_1006</td>\n",
       "      <td>CANADA</td>\n",
       "      <td>24-Jan</td>\n",
       "      <td>Friends/Relatives</td>\n",
       "      <td>2.0</td>\n",
       "      <td>0.0</td>\n",
       "      <td>Leisure and Holidays</td>\n",
       "      <td>Cultural tourism</td>\n",
       "      <td>others</td>\n",
       "      <td>Independent</td>\n",
       "      <td>No</td>\n",
       "      <td>No</td>\n",
       "      <td>No</td>\n",
       "      <td>No</td>\n",
       "      <td>No</td>\n",
       "      <td>No</td>\n",
       "      <td>No</td>\n",
       "      <td>0</td>\n",
       "      <td>4</td>\n",
       "      <td>Cash</td>\n",
       "      <td>Yes</td>\n",
       "      <td>Friendly People</td>\n",
       "    </tr>\n",
       "    <tr>\n",
       "      <th>4</th>\n",
       "      <td>tour_1009</td>\n",
       "      <td>UNITED KINGDOM</td>\n",
       "      <td>45-64</td>\n",
       "      <td>Friends/Relatives</td>\n",
       "      <td>2.0</td>\n",
       "      <td>2.0</td>\n",
       "      <td>Leisure and Holidays</td>\n",
       "      <td>Wildlife tourism</td>\n",
       "      <td>Friends, relatives</td>\n",
       "      <td>Package Tour</td>\n",
       "      <td>Yes</td>\n",
       "      <td>Yes</td>\n",
       "      <td>Yes</td>\n",
       "      <td>Yes</td>\n",
       "      <td>No</td>\n",
       "      <td>No</td>\n",
       "      <td>No</td>\n",
       "      <td>10</td>\n",
       "      <td>0</td>\n",
       "      <td>Cash</td>\n",
       "      <td>Yes</td>\n",
       "      <td>Friendly People</td>\n",
       "    </tr>\n",
       "  </tbody>\n",
       "</table>\n",
       "</div>"
      ],
      "text/plain": [
       "          ID  ...                       most_impressing\n",
       "0     tour_1  ...                              Wildlife\n",
       "1   tour_100  ...  Wonderful Country, Landscape, Nature\n",
       "2  tour_1001  ...                           No comments\n",
       "3  tour_1006  ...                       Friendly People\n",
       "4  tour_1009  ...                       Friendly People\n",
       "\n",
       "[5 rows x 22 columns]"
      ]
     },
     "execution_count": 7,
     "metadata": {
      "tags": []
     },
     "output_type": "execute_result"
    }
   ],
   "source": [
    "test.head()"
   ]
  },
  {
   "cell_type": "code",
   "execution_count": 8,
   "metadata": {
    "colab": {
     "base_uri": "https://localhost:8080/",
     "height": 734
    },
    "executionInfo": {
     "elapsed": 13104,
     "status": "ok",
     "timestamp": 1607963790090,
     "user": {
      "displayName": "ANTHONY HILA",
      "photoUrl": "https://lh3.googleusercontent.com/a-/AOh14GjKFCVT4z-M6jvu_Q2zlkNMrMUR1glN7PerIjxagw=s64",
      "userId": "18008548834088300151"
     },
     "user_tz": -180
    },
    "id": "XrvdrYeMObsH",
    "outputId": "68fc9d4a-a2a7-45ff-ec60-fec3a28ae04f"
   },
   "outputs": [
    {
     "data": {
      "text/html": [
       "<div>\n",
       "<style scoped>\n",
       "    .dataframe tbody tr th:only-of-type {\n",
       "        vertical-align: middle;\n",
       "    }\n",
       "\n",
       "    .dataframe tbody tr th {\n",
       "        vertical-align: top;\n",
       "    }\n",
       "\n",
       "    .dataframe thead th {\n",
       "        text-align: right;\n",
       "    }\n",
       "</style>\n",
       "<table border=\"1\" class=\"dataframe\">\n",
       "  <thead>\n",
       "    <tr style=\"text-align: right;\">\n",
       "      <th></th>\n",
       "      <th>Column Name</th>\n",
       "      <th>Definition</th>\n",
       "    </tr>\n",
       "  </thead>\n",
       "  <tbody>\n",
       "    <tr>\n",
       "      <th>0</th>\n",
       "      <td>id</td>\n",
       "      <td>Unique identifier for each tourist</td>\n",
       "    </tr>\n",
       "    <tr>\n",
       "      <th>1</th>\n",
       "      <td>country</td>\n",
       "      <td>The country a tourist coming  from.</td>\n",
       "    </tr>\n",
       "    <tr>\n",
       "      <th>2</th>\n",
       "      <td>age_group</td>\n",
       "      <td>The age group of a tourist.</td>\n",
       "    </tr>\n",
       "    <tr>\n",
       "      <th>3</th>\n",
       "      <td>travel_with</td>\n",
       "      <td>The relation of people a tourist travel with t...</td>\n",
       "    </tr>\n",
       "    <tr>\n",
       "      <th>4</th>\n",
       "      <td>total_female</td>\n",
       "      <td>Total number of females</td>\n",
       "    </tr>\n",
       "    <tr>\n",
       "      <th>5</th>\n",
       "      <td>total_male</td>\n",
       "      <td>Total number of males</td>\n",
       "    </tr>\n",
       "    <tr>\n",
       "      <th>6</th>\n",
       "      <td>purpose</td>\n",
       "      <td>The purpose of visiting  Tanzania</td>\n",
       "    </tr>\n",
       "    <tr>\n",
       "      <th>7</th>\n",
       "      <td>main_activity</td>\n",
       "      <td>The main activity of tourism in Tanzania</td>\n",
       "    </tr>\n",
       "    <tr>\n",
       "      <th>8</th>\n",
       "      <td>infor_source</td>\n",
       "      <td>The source of information about tourism in Tan...</td>\n",
       "    </tr>\n",
       "    <tr>\n",
       "      <th>9</th>\n",
       "      <td>tour_arrangment</td>\n",
       "      <td>The arrangment of visiting Tanzania</td>\n",
       "    </tr>\n",
       "    <tr>\n",
       "      <th>10</th>\n",
       "      <td>package_transport_int</td>\n",
       "      <td>If the tour package include international tran...</td>\n",
       "    </tr>\n",
       "    <tr>\n",
       "      <th>11</th>\n",
       "      <td>package_accomodation</td>\n",
       "      <td>If the tour package include accommodation service</td>\n",
       "    </tr>\n",
       "    <tr>\n",
       "      <th>12</th>\n",
       "      <td>package_food</td>\n",
       "      <td>If the tour package include food service</td>\n",
       "    </tr>\n",
       "    <tr>\n",
       "      <th>13</th>\n",
       "      <td>package_transport_tz</td>\n",
       "      <td>If the tour package include transport service ...</td>\n",
       "    </tr>\n",
       "    <tr>\n",
       "      <th>14</th>\n",
       "      <td>package_sightseeing</td>\n",
       "      <td>If the tour package include sightseeing service</td>\n",
       "    </tr>\n",
       "    <tr>\n",
       "      <th>15</th>\n",
       "      <td>package_guided_tour</td>\n",
       "      <td>If the tour package include tour guide</td>\n",
       "    </tr>\n",
       "    <tr>\n",
       "      <th>16</th>\n",
       "      <td>package_insurance</td>\n",
       "      <td>if the tour package include insurance service</td>\n",
       "    </tr>\n",
       "    <tr>\n",
       "      <th>17</th>\n",
       "      <td>night_mainland</td>\n",
       "      <td>Number of nights a tourist spent in Tanzania m...</td>\n",
       "    </tr>\n",
       "    <tr>\n",
       "      <th>18</th>\n",
       "      <td>night_zanzibar</td>\n",
       "      <td>Number of nights a tourist spent in Zanzibar</td>\n",
       "    </tr>\n",
       "    <tr>\n",
       "      <th>19</th>\n",
       "      <td>payment_mode</td>\n",
       "      <td>The mode of payment for tourism service</td>\n",
       "    </tr>\n",
       "    <tr>\n",
       "      <th>20</th>\n",
       "      <td>first_trip_tz</td>\n",
       "      <td>If it was a first  trip to Tanzania</td>\n",
       "    </tr>\n",
       "    <tr>\n",
       "      <th>21</th>\n",
       "      <td>most_impressing</td>\n",
       "      <td>what impressed a toursit in Tanzania</td>\n",
       "    </tr>\n",
       "    <tr>\n",
       "      <th>22</th>\n",
       "      <td>total_cost</td>\n",
       "      <td>The total tourist expenditure  in TZS(currency)</td>\n",
       "    </tr>\n",
       "  </tbody>\n",
       "</table>\n",
       "</div>"
      ],
      "text/plain": [
       "              Column Name                                         Definition\n",
       "0                      id                 Unique identifier for each tourist\n",
       "1                 country                The country a tourist coming  from.\n",
       "2               age_group                        The age group of a tourist.\n",
       "3             travel_with  The relation of people a tourist travel with t...\n",
       "4            total_female                            Total number of females\n",
       "5              total_male                              Total number of males\n",
       "6                 purpose                  The purpose of visiting  Tanzania\n",
       "7           main_activity           The main activity of tourism in Tanzania\n",
       "8            infor_source  The source of information about tourism in Tan...\n",
       "9         tour_arrangment                The arrangment of visiting Tanzania\n",
       "10  package_transport_int  If the tour package include international tran...\n",
       "11   package_accomodation  If the tour package include accommodation service\n",
       "12           package_food           If the tour package include food service\n",
       "13   package_transport_tz  If the tour package include transport service ...\n",
       "14    package_sightseeing    If the tour package include sightseeing service\n",
       "15    package_guided_tour             If the tour package include tour guide\n",
       "16      package_insurance      if the tour package include insurance service\n",
       "17         night_mainland  Number of nights a tourist spent in Tanzania m...\n",
       "18         night_zanzibar       Number of nights a tourist spent in Zanzibar\n",
       "19           payment_mode            The mode of payment for tourism service\n",
       "20          first_trip_tz                If it was a first  trip to Tanzania\n",
       "21        most_impressing               what impressed a toursit in Tanzania\n",
       "22             total_cost    The total tourist expenditure  in TZS(currency)"
      ]
     },
     "execution_count": 8,
     "metadata": {
      "tags": []
     },
     "output_type": "execute_result"
    }
   ],
   "source": [
    "desc"
   ]
  },
  {
   "cell_type": "markdown",
   "metadata": {
    "id": "JK99PBZnObsH"
   },
   "source": [
    "#### EDA"
   ]
  },
  {
   "cell_type": "code",
   "execution_count": 9,
   "metadata": {
    "colab": {
     "base_uri": "https://localhost:8080/"
    },
    "executionInfo": {
     "elapsed": 12232,
     "status": "ok",
     "timestamp": 1607963790091,
     "user": {
      "displayName": "ANTHONY HILA",
      "photoUrl": "https://lh3.googleusercontent.com/a-/AOh14GjKFCVT4z-M6jvu_Q2zlkNMrMUR1glN7PerIjxagw=s64",
      "userId": "18008548834088300151"
     },
     "user_tz": -180
    },
    "id": "6pL8cRLFObsH",
    "outputId": "778ec31a-16ae-45f7-f009-937247e0a10e"
   },
   "outputs": [
    {
     "data": {
      "text/plain": [
       "((4809, 23), (1601, 22))"
      ]
     },
     "execution_count": 9,
     "metadata": {
      "tags": []
     },
     "output_type": "execute_result"
    }
   ],
   "source": [
    "train.shape , test.shape"
   ]
  },
  {
   "cell_type": "code",
   "execution_count": 10,
   "metadata": {
    "colab": {
     "base_uri": "https://localhost:8080/"
    },
    "executionInfo": {
     "elapsed": 11888,
     "status": "ok",
     "timestamp": 1607963790092,
     "user": {
      "displayName": "ANTHONY HILA",
      "photoUrl": "https://lh3.googleusercontent.com/a-/AOh14GjKFCVT4z-M6jvu_Q2zlkNMrMUR1glN7PerIjxagw=s64",
      "userId": "18008548834088300151"
     },
     "user_tz": -180
    },
    "id": "IMKRMrsNObsI",
    "outputId": "c19dd212-5c20-4672-b2c6-514d061b5a91"
   },
   "outputs": [
    {
     "name": "stdout",
     "output_type": "stream",
     "text": [
      "<class 'pandas.core.frame.DataFrame'>\n",
      "RangeIndex: 4809 entries, 0 to 4808\n",
      "Data columns (total 23 columns):\n",
      " #   Column                 Non-Null Count  Dtype  \n",
      "---  ------                 --------------  -----  \n",
      " 0   ID                     4809 non-null   object \n",
      " 1   country                4809 non-null   object \n",
      " 2   age_group              4809 non-null   object \n",
      " 3   travel_with            3695 non-null   object \n",
      " 4   total_female           4806 non-null   float64\n",
      " 5   total_male             4804 non-null   float64\n",
      " 6   purpose                4809 non-null   object \n",
      " 7   main_activity          4809 non-null   object \n",
      " 8   info_source            4809 non-null   object \n",
      " 9   tour_arrangement       4809 non-null   object \n",
      " 10  package_transport_int  4809 non-null   object \n",
      " 11  package_accomodation   4809 non-null   object \n",
      " 12  package_food           4809 non-null   object \n",
      " 13  package_transport_tz   4809 non-null   object \n",
      " 14  package_sightseeing    4809 non-null   object \n",
      " 15  package_guided_tour    4809 non-null   object \n",
      " 16  package_insurance      4809 non-null   object \n",
      " 17  night_mainland         4809 non-null   float64\n",
      " 18  night_zanzibar         4809 non-null   float64\n",
      " 19  payment_mode           4809 non-null   object \n",
      " 20  first_trip_tz          4809 non-null   object \n",
      " 21  most_impressing        4496 non-null   object \n",
      " 22  total_cost             4809 non-null   float64\n",
      "dtypes: float64(5), object(18)\n",
      "memory usage: 864.2+ KB\n"
     ]
    }
   ],
   "source": [
    "train.info()"
   ]
  },
  {
   "cell_type": "code",
   "execution_count": 11,
   "metadata": {
    "colab": {
     "base_uri": "https://localhost:8080/"
    },
    "executionInfo": {
     "elapsed": 10969,
     "status": "ok",
     "timestamp": 1607963790093,
     "user": {
      "displayName": "ANTHONY HILA",
      "photoUrl": "https://lh3.googleusercontent.com/a-/AOh14GjKFCVT4z-M6jvu_Q2zlkNMrMUR1glN7PerIjxagw=s64",
      "userId": "18008548834088300151"
     },
     "user_tz": -180
    },
    "id": "CJ0F6oeOObsI",
    "outputId": "abdb4559-b62f-43db-922f-8677fc1f709a"
   },
   "outputs": [
    {
     "name": "stdout",
     "output_type": "stream",
     "text": [
      "<class 'pandas.core.frame.DataFrame'>\n",
      "RangeIndex: 1601 entries, 0 to 1600\n",
      "Data columns (total 22 columns):\n",
      " #   Column                 Non-Null Count  Dtype  \n",
      "---  ------                 --------------  -----  \n",
      " 0   ID                     1601 non-null   object \n",
      " 1   country                1601 non-null   object \n",
      " 2   age_group              1601 non-null   object \n",
      " 3   travel_with            1274 non-null   object \n",
      " 4   total_female           1600 non-null   float64\n",
      " 5   total_male             1599 non-null   float64\n",
      " 6   purpose                1601 non-null   object \n",
      " 7   main_activity          1601 non-null   object \n",
      " 8   info_source            1601 non-null   object \n",
      " 9   tour_arrangement       1601 non-null   object \n",
      " 10  package_transport_int  1601 non-null   object \n",
      " 11  package_accomodation   1601 non-null   object \n",
      " 12  package_food           1601 non-null   object \n",
      " 13  package_transport_tz   1601 non-null   object \n",
      " 14  package_sightseeing    1601 non-null   object \n",
      " 15  package_guided_tour    1601 non-null   object \n",
      " 16  package_insurance      1601 non-null   object \n",
      " 17  night_mainland         1601 non-null   int64  \n",
      " 18  night_zanzibar         1601 non-null   int64  \n",
      " 19  payment_mode           1601 non-null   object \n",
      " 20  first_trip_tz          1601 non-null   object \n",
      " 21  most_impressing        1490 non-null   object \n",
      "dtypes: float64(2), int64(2), object(18)\n",
      "memory usage: 275.3+ KB\n"
     ]
    }
   ],
   "source": [
    "test.info()"
   ]
  },
  {
   "cell_type": "code",
   "execution_count": 12,
   "metadata": {
    "colab": {
     "base_uri": "https://localhost:8080/",
     "height": 197
    },
    "executionInfo": {
     "elapsed": 10506,
     "status": "ok",
     "timestamp": 1607963790093,
     "user": {
      "displayName": "ANTHONY HILA",
      "photoUrl": "https://lh3.googleusercontent.com/a-/AOh14GjKFCVT4z-M6jvu_Q2zlkNMrMUR1glN7PerIjxagw=s64",
      "userId": "18008548834088300151"
     },
     "user_tz": -180
    },
    "id": "Pl0tkZCVObsI",
    "outputId": "3f3b9364-4fba-417e-f45d-0aadfe149797"
   },
   "outputs": [
    {
     "data": {
      "text/html": [
       "<div>\n",
       "<style scoped>\n",
       "    .dataframe tbody tr th:only-of-type {\n",
       "        vertical-align: middle;\n",
       "    }\n",
       "\n",
       "    .dataframe tbody tr th {\n",
       "        vertical-align: top;\n",
       "    }\n",
       "\n",
       "    .dataframe thead th {\n",
       "        text-align: right;\n",
       "    }\n",
       "</style>\n",
       "<table border=\"1\" class=\"dataframe\">\n",
       "  <thead>\n",
       "    <tr style=\"text-align: right;\">\n",
       "      <th></th>\n",
       "      <th>count</th>\n",
       "      <th>mean</th>\n",
       "      <th>std</th>\n",
       "      <th>min</th>\n",
       "      <th>25%</th>\n",
       "      <th>50%</th>\n",
       "      <th>75%</th>\n",
       "      <th>max</th>\n",
       "    </tr>\n",
       "  </thead>\n",
       "  <tbody>\n",
       "    <tr>\n",
       "      <th>total_female</th>\n",
       "      <td>4806.0</td>\n",
       "      <td>9.267582e-01</td>\n",
       "      <td>1.288242e+00</td>\n",
       "      <td>0.0</td>\n",
       "      <td>0.0</td>\n",
       "      <td>1.0</td>\n",
       "      <td>1.0</td>\n",
       "      <td>49.0</td>\n",
       "    </tr>\n",
       "    <tr>\n",
       "      <th>total_male</th>\n",
       "      <td>4804.0</td>\n",
       "      <td>1.009575e+00</td>\n",
       "      <td>1.138865e+00</td>\n",
       "      <td>0.0</td>\n",
       "      <td>1.0</td>\n",
       "      <td>1.0</td>\n",
       "      <td>1.0</td>\n",
       "      <td>44.0</td>\n",
       "    </tr>\n",
       "    <tr>\n",
       "      <th>night_mainland</th>\n",
       "      <td>4809.0</td>\n",
       "      <td>8.488043e+00</td>\n",
       "      <td>1.042762e+01</td>\n",
       "      <td>0.0</td>\n",
       "      <td>3.0</td>\n",
       "      <td>6.0</td>\n",
       "      <td>11.0</td>\n",
       "      <td>145.0</td>\n",
       "    </tr>\n",
       "    <tr>\n",
       "      <th>night_zanzibar</th>\n",
       "      <td>4809.0</td>\n",
       "      <td>2.304429e+00</td>\n",
       "      <td>4.227080e+00</td>\n",
       "      <td>0.0</td>\n",
       "      <td>0.0</td>\n",
       "      <td>0.0</td>\n",
       "      <td>4.0</td>\n",
       "      <td>61.0</td>\n",
       "    </tr>\n",
       "    <tr>\n",
       "      <th>total_cost</th>\n",
       "      <td>4809.0</td>\n",
       "      <td>8.114389e+06</td>\n",
       "      <td>1.222490e+07</td>\n",
       "      <td>49000.0</td>\n",
       "      <td>812175.0</td>\n",
       "      <td>3397875.0</td>\n",
       "      <td>9945000.0</td>\n",
       "      <td>99532875.0</td>\n",
       "    </tr>\n",
       "  </tbody>\n",
       "</table>\n",
       "</div>"
      ],
      "text/plain": [
       "                 count          mean  ...        75%         max\n",
       "total_female    4806.0  9.267582e-01  ...        1.0        49.0\n",
       "total_male      4804.0  1.009575e+00  ...        1.0        44.0\n",
       "night_mainland  4809.0  8.488043e+00  ...       11.0       145.0\n",
       "night_zanzibar  4809.0  2.304429e+00  ...        4.0        61.0\n",
       "total_cost      4809.0  8.114389e+06  ...  9945000.0  99532875.0\n",
       "\n",
       "[5 rows x 8 columns]"
      ]
     },
     "execution_count": 12,
     "metadata": {
      "tags": []
     },
     "output_type": "execute_result"
    }
   ],
   "source": [
    "train.describe().T"
   ]
  },
  {
   "cell_type": "code",
   "execution_count": 13,
   "metadata": {
    "colab": {
     "base_uri": "https://localhost:8080/"
    },
    "executionInfo": {
     "elapsed": 9880,
     "status": "ok",
     "timestamp": 1607963790094,
     "user": {
      "displayName": "ANTHONY HILA",
      "photoUrl": "https://lh3.googleusercontent.com/a-/AOh14GjKFCVT4z-M6jvu_Q2zlkNMrMUR1glN7PerIjxagw=s64",
      "userId": "18008548834088300151"
     },
     "user_tz": -180
    },
    "id": "bRBCEVRSObsJ",
    "outputId": "899ddc0f-a8fa-493e-910b-11280d4101e1"
   },
   "outputs": [
    {
     "data": {
      "text/plain": [
       "array(['SWIZERLAND', 'UNITED KINGDOM', 'CHINA', 'SOUTH AFRICA',\n",
       "       'UNITED STATES OF AMERICA', 'NIGERIA', 'INDIA', 'BRAZIL', 'CANADA',\n",
       "       'MALT', 'MOZAMBIQUE', 'RWANDA', 'AUSTRIA', 'MYANMAR', 'GERMANY',\n",
       "       'KENYA', 'ALGERIA', 'IRELAND', 'DENMARK', 'SPAIN', 'FRANCE',\n",
       "       'ITALY', 'EGYPT', 'QATAR', 'MALAWI', 'JAPAN', 'SWEDEN',\n",
       "       'NETHERLANDS', 'UAE', 'UGANDA', 'AUSTRALIA', 'YEMEN',\n",
       "       'NEW ZEALAND', 'BELGIUM', 'NORWAY', 'ZIMBABWE', 'ZAMBIA', 'CONGO',\n",
       "       'BURGARIA', 'PAKISTAN', 'GREECE', 'MAURITIUS', 'DRC', 'OMAN',\n",
       "       'PORTUGAL', 'KOREA', 'SWAZILAND', 'TUNISIA', 'KUWAIT', 'DOMINICA',\n",
       "       'ISRAEL', 'FINLAND', 'CZECH REPUBLIC', 'UKRAIN', 'ETHIOPIA',\n",
       "       'BURUNDI', 'SCOTLAND', 'RUSSIA', 'GHANA', 'NIGER', 'MALAYSIA',\n",
       "       'COLOMBIA', 'LUXEMBOURG', 'NEPAL', 'POLAND', 'SINGAPORE',\n",
       "       'LITHUANIA', 'HUNGARY', 'INDONESIA', 'TURKEY', 'TRINIDAD TOBACCO',\n",
       "       'IRAQ', 'SLOVENIA', 'UNITED ARAB EMIRATES', 'COMORO', 'SRI LANKA',\n",
       "       'IRAN', 'MONTENEGRO', 'ANGOLA', 'LEBANON', 'SLOVAKIA', 'ROMANIA',\n",
       "       'MEXICO', 'LATVIA', 'CROATIA', 'CAPE VERDE', 'SUDAN', 'COSTARICA',\n",
       "       'CHILE', 'NAMIBIA', 'TAIWAN', 'SERBIA', 'LESOTHO', 'GEORGIA',\n",
       "       'PHILIPINES', 'IVORY COAST', 'MADAGASCAR', 'DJIBOUT', 'CYPRUS',\n",
       "       'ARGENTINA', 'URUGUAY', 'MORROCO', 'THAILAND', 'BERMUDA',\n",
       "       'ESTONIA'], dtype=object)"
      ]
     },
     "execution_count": 13,
     "metadata": {
      "tags": []
     },
     "output_type": "execute_result"
    }
   ],
   "source": [
    "train.country.unique()"
   ]
  },
  {
   "cell_type": "code",
   "execution_count": 14,
   "metadata": {
    "colab": {
     "base_uri": "https://localhost:8080/"
    },
    "executionInfo": {
     "elapsed": 7355,
     "status": "ok",
     "timestamp": 1607963790095,
     "user": {
      "displayName": "ANTHONY HILA",
      "photoUrl": "https://lh3.googleusercontent.com/a-/AOh14GjKFCVT4z-M6jvu_Q2zlkNMrMUR1glN7PerIjxagw=s64",
      "userId": "18008548834088300151"
     },
     "user_tz": -180
    },
    "id": "XXmwlfF3ObsJ",
    "outputId": "20d51f27-3797-44c4-dc5e-fe4ca7201fe9"
   },
   "outputs": [
    {
     "data": {
      "text/plain": [
       "array(['AUSTRALIA', 'SOUTH AFRICA', 'GERMANY', 'CANADA', 'UNITED KINGDOM',\n",
       "       'DENMARK', 'RUSSIA', 'FRANCE', 'SPAIN', 'SWIZERLAND',\n",
       "       'UNITED STATES OF AMERICA', 'CHINA', 'INDIA', 'ZAMBIA',\n",
       "       'NEW ZEALAND', 'COMORO', 'NETHERLANDS', 'MALAYSIA', 'KENYA',\n",
       "       'ITALY', 'FINLAND', 'MALAWI', 'BELGIUM', 'NORWAY', 'MALT',\n",
       "       'ETHIOPIA', 'OMAN', 'CZECH REPUBLIC', 'GHANA', 'UAE', 'PORTUGAL',\n",
       "       'SINGAPORE', 'SWEDEN', 'UGANDA', 'BRAZIL', 'QATAR', 'UKRAIN',\n",
       "       'ROMANIA', 'DRC', 'HUNGARY', 'RWANDA', 'AUSTRIA', 'BOTSWANA',\n",
       "       'ZIMBABWE', 'IRELAND', 'JAPAN', 'IRAN', 'MOZAMBIQUE', 'SWAZILAND',\n",
       "       'BULGARIA', 'ISRAEL', 'CHILE', 'SUDAN', 'BANGLADESH', 'SLOVAKIA',\n",
       "       'COSTARICA', 'NAMIBIA', 'POLAND', 'DOMINICA', 'SCOTLAND', 'HAITI',\n",
       "       'PAKISTAN', 'TAIWAN', 'PHILIPINES', 'VIETNAM', 'SERBIA', 'BURUNDI',\n",
       "       'BOSNIA', 'LIBERIA', 'PERU', 'GREECE', 'INDONESIA', 'LEBANON',\n",
       "       'CAPE VERDE', 'JAMAICA', 'UNITED ARAB EMIRATES', 'MORROCO',\n",
       "       'EGYPT', 'CYPRUS', 'MACEDONIA', 'CONGO', 'GUINEA', 'ARGENTINA',\n",
       "       'YEMEN', 'SOMALI', 'KOREA', 'SAUD ARABIA'], dtype=object)"
      ]
     },
     "execution_count": 14,
     "metadata": {
      "tags": []
     },
     "output_type": "execute_result"
    }
   ],
   "source": [
    "test.country.unique()"
   ]
  },
  {
   "cell_type": "code",
   "execution_count": 15,
   "metadata": {
    "colab": {
     "base_uri": "https://localhost:8080/"
    },
    "executionInfo": {
     "elapsed": 1157,
     "status": "ok",
     "timestamp": 1607963790096,
     "user": {
      "displayName": "ANTHONY HILA",
      "photoUrl": "https://lh3.googleusercontent.com/a-/AOh14GjKFCVT4z-M6jvu_Q2zlkNMrMUR1glN7PerIjxagw=s64",
      "userId": "18008548834088300151"
     },
     "user_tz": -180
    },
    "id": "SsphvtbyObsJ",
    "outputId": "a1c4ab52-0f81-404e-e92b-54afe5afbe2b"
   },
   "outputs": [
    {
     "data": {
      "text/plain": [
       "array(['45-64', '25-44', '1-24', '65+'], dtype=object)"
      ]
     },
     "execution_count": 15,
     "metadata": {
      "tags": []
     },
     "output_type": "execute_result"
    }
   ],
   "source": [
    "train.age_group.unique()"
   ]
  },
  {
   "cell_type": "code",
   "execution_count": 16,
   "metadata": {
    "colab": {
     "base_uri": "https://localhost:8080/"
    },
    "executionInfo": {
     "elapsed": 1217,
     "status": "ok",
     "timestamp": 1607963792211,
     "user": {
      "displayName": "ANTHONY HILA",
      "photoUrl": "https://lh3.googleusercontent.com/a-/AOh14GjKFCVT4z-M6jvu_Q2zlkNMrMUR1glN7PerIjxagw=s64",
      "userId": "18008548834088300151"
     },
     "user_tz": -180
    },
    "id": "CxU00hl6ObsJ",
    "outputId": "0b514a20-d137-473f-eded-76725e1fa9ee"
   },
   "outputs": [
    {
     "data": {
      "text/plain": [
       "array(['45-64', '25-44', '24-Jan', '65+'], dtype=object)"
      ]
     },
     "execution_count": 16,
     "metadata": {
      "tags": []
     },
     "output_type": "execute_result"
    }
   ],
   "source": [
    "test.age_group.unique()"
   ]
  },
  {
   "cell_type": "code",
   "execution_count": 17,
   "metadata": {
    "colab": {
     "base_uri": "https://localhost:8080/"
    },
    "executionInfo": {
     "elapsed": 1376,
     "status": "ok",
     "timestamp": 1607963792876,
     "user": {
      "displayName": "ANTHONY HILA",
      "photoUrl": "https://lh3.googleusercontent.com/a-/AOh14GjKFCVT4z-M6jvu_Q2zlkNMrMUR1glN7PerIjxagw=s64",
      "userId": "18008548834088300151"
     },
     "user_tz": -180
    },
    "id": "OWBmsvNJObsK",
    "outputId": "1a20cb76-23d3-4a5e-e863-928c0033fd29"
   },
   "outputs": [
    {
     "data": {
      "text/plain": [
       "25-44    2487\n",
       "45-64    1391\n",
       "1-24      624\n",
       "65+       307\n",
       "Name: age_group, dtype: int64"
      ]
     },
     "execution_count": 17,
     "metadata": {
      "tags": []
     },
     "output_type": "execute_result"
    }
   ],
   "source": [
    "train.age_group.value_counts()"
   ]
  },
  {
   "cell_type": "code",
   "execution_count": 18,
   "metadata": {
    "colab": {
     "base_uri": "https://localhost:8080/"
    },
    "executionInfo": {
     "elapsed": 1411,
     "status": "ok",
     "timestamp": 1607963793504,
     "user": {
      "displayName": "ANTHONY HILA",
      "photoUrl": "https://lh3.googleusercontent.com/a-/AOh14GjKFCVT4z-M6jvu_Q2zlkNMrMUR1glN7PerIjxagw=s64",
      "userId": "18008548834088300151"
     },
     "user_tz": -180
    },
    "id": "kt0ivtusObsK",
    "outputId": "9e5a374c-fff1-4168-e326-a4321977b8a4"
   },
   "outputs": [
    {
     "data": {
      "text/plain": [
       "25-44     866\n",
       "45-64     447\n",
       "24-Jan    202\n",
       "65+        86\n",
       "Name: age_group, dtype: int64"
      ]
     },
     "execution_count": 18,
     "metadata": {
      "tags": []
     },
     "output_type": "execute_result"
    }
   ],
   "source": [
    "test.age_group.value_counts()"
   ]
  },
  {
   "cell_type": "code",
   "execution_count": 19,
   "metadata": {
    "colab": {
     "base_uri": "https://localhost:8080/"
    },
    "executionInfo": {
     "elapsed": 1650,
     "status": "ok",
     "timestamp": 1607963794116,
     "user": {
      "displayName": "ANTHONY HILA",
      "photoUrl": "https://lh3.googleusercontent.com/a-/AOh14GjKFCVT4z-M6jvu_Q2zlkNMrMUR1glN7PerIjxagw=s64",
      "userId": "18008548834088300151"
     },
     "user_tz": -180
    },
    "id": "NQiiwFKDObsK",
    "outputId": "bb303c1f-e758-4d15-d7f5-8aaada3cea4a"
   },
   "outputs": [
    {
     "data": {
      "text/plain": [
       "array(['Friends/Relatives', nan, 'Alone', 'Spouse', 'Children',\n",
       "       'Spouse and Children'], dtype=object)"
      ]
     },
     "execution_count": 19,
     "metadata": {
      "tags": []
     },
     "output_type": "execute_result"
    }
   ],
   "source": [
    "train.travel_with.unique()"
   ]
  },
  {
   "cell_type": "code",
   "execution_count": 20,
   "metadata": {
    "colab": {
     "base_uri": "https://localhost:8080/"
    },
    "executionInfo": {
     "elapsed": 1351,
     "status": "ok",
     "timestamp": 1607963794117,
     "user": {
      "displayName": "ANTHONY HILA",
      "photoUrl": "https://lh3.googleusercontent.com/a-/AOh14GjKFCVT4z-M6jvu_Q2zlkNMrMUR1glN7PerIjxagw=s64",
      "userId": "18008548834088300151"
     },
     "user_tz": -180
    },
    "id": "NgtNCursObsL",
    "outputId": "e8b06851-b1fe-4bdb-e739-6fa57dfbb738"
   },
   "outputs": [
    {
     "data": {
      "text/plain": [
       "array(['Spouse', 'Friends/Relatives', nan, 'Alone', 'Spouse and Children',\n",
       "       'Children'], dtype=object)"
      ]
     },
     "execution_count": 20,
     "metadata": {
      "tags": []
     },
     "output_type": "execute_result"
    }
   ],
   "source": [
    "test.travel_with.unique()"
   ]
  },
  {
   "cell_type": "code",
   "execution_count": 21,
   "metadata": {
    "colab": {
     "base_uri": "https://localhost:8080/"
    },
    "executionInfo": {
     "elapsed": 1212,
     "status": "ok",
     "timestamp": 1607963794609,
     "user": {
      "displayName": "ANTHONY HILA",
      "photoUrl": "https://lh3.googleusercontent.com/a-/AOh14GjKFCVT4z-M6jvu_Q2zlkNMrMUR1glN7PerIjxagw=s64",
      "userId": "18008548834088300151"
     },
     "user_tz": -180
    },
    "id": "uBLdmxvgObsL",
    "outputId": "8e699978-c200-4f8a-c4f8-a28545ad544f"
   },
   "outputs": [
    {
     "data": {
      "text/plain": [
       "Alone                  1265\n",
       "Spouse                 1005\n",
       "Friends/Relatives       895\n",
       "Spouse and Children     368\n",
       "Children                162\n",
       "Name: travel_with, dtype: int64"
      ]
     },
     "execution_count": 21,
     "metadata": {
      "tags": []
     },
     "output_type": "execute_result"
    }
   ],
   "source": [
    "train.travel_with.value_counts()"
   ]
  },
  {
   "cell_type": "code",
   "execution_count": 22,
   "metadata": {
    "colab": {
     "base_uri": "https://localhost:8080/"
    },
    "executionInfo": {
     "elapsed": 1171,
     "status": "ok",
     "timestamp": 1607963795084,
     "user": {
      "displayName": "ANTHONY HILA",
      "photoUrl": "https://lh3.googleusercontent.com/a-/AOh14GjKFCVT4z-M6jvu_Q2zlkNMrMUR1glN7PerIjxagw=s64",
      "userId": "18008548834088300151"
     },
     "user_tz": -180
    },
    "id": "qJqICW5WObsL",
    "outputId": "169bd832-bca3-415b-a59b-01517fd67373"
   },
   "outputs": [
    {
     "data": {
      "text/plain": [
       "Alone                  403\n",
       "Spouse                 369\n",
       "Friends/Relatives      327\n",
       "Spouse and Children    120\n",
       "Children                55\n",
       "Name: travel_with, dtype: int64"
      ]
     },
     "execution_count": 22,
     "metadata": {
      "tags": []
     },
     "output_type": "execute_result"
    }
   ],
   "source": [
    "test.travel_with.value_counts()"
   ]
  },
  {
   "cell_type": "code",
   "execution_count": 23,
   "metadata": {
    "colab": {
     "base_uri": "https://localhost:8080/"
    },
    "executionInfo": {
     "elapsed": 1298,
     "status": "ok",
     "timestamp": 1607963795699,
     "user": {
      "displayName": "ANTHONY HILA",
      "photoUrl": "https://lh3.googleusercontent.com/a-/AOh14GjKFCVT4z-M6jvu_Q2zlkNMrMUR1glN7PerIjxagw=s64",
      "userId": "18008548834088300151"
     },
     "user_tz": -180
    },
    "id": "_69mP63hObsL",
    "outputId": "763f9b5f-830d-41b6-fd7a-dd5564b0211f"
   },
   "outputs": [
    {
     "data": {
      "text/plain": [
       "array(['Leisure and Holidays', 'Visiting Friends and Relatives',\n",
       "       'Business', 'Meetings and Conference', 'Volunteering',\n",
       "       'Scientific and Academic', 'Other'], dtype=object)"
      ]
     },
     "execution_count": 23,
     "metadata": {
      "tags": []
     },
     "output_type": "execute_result"
    }
   ],
   "source": [
    "train.purpose.unique()"
   ]
  },
  {
   "cell_type": "code",
   "execution_count": 24,
   "metadata": {
    "colab": {
     "base_uri": "https://localhost:8080/"
    },
    "executionInfo": {
     "elapsed": 1184,
     "status": "ok",
     "timestamp": 1607963796793,
     "user": {
      "displayName": "ANTHONY HILA",
      "photoUrl": "https://lh3.googleusercontent.com/a-/AOh14GjKFCVT4z-M6jvu_Q2zlkNMrMUR1glN7PerIjxagw=s64",
      "userId": "18008548834088300151"
     },
     "user_tz": -180
    },
    "id": "cvNL-hZEObsM",
    "outputId": "41b0b27f-18ea-4417-9cd3-5fee297fc5c6"
   },
   "outputs": [
    {
     "data": {
      "text/plain": [
       "array(['Leisure and Holidays', 'Business', 'Volunteering',\n",
       "       'Meetings and Conference', 'Visiting Friends and Relatives',\n",
       "       'Scientific and Academic', 'Other'], dtype=object)"
      ]
     },
     "execution_count": 24,
     "metadata": {
      "tags": []
     },
     "output_type": "execute_result"
    }
   ],
   "source": [
    "test.purpose.unique()"
   ]
  },
  {
   "cell_type": "code",
   "execution_count": 25,
   "metadata": {
    "colab": {
     "base_uri": "https://localhost:8080/"
    },
    "executionInfo": {
     "elapsed": 1892,
     "status": "ok",
     "timestamp": 1607963798900,
     "user": {
      "displayName": "ANTHONY HILA",
      "photoUrl": "https://lh3.googleusercontent.com/a-/AOh14GjKFCVT4z-M6jvu_Q2zlkNMrMUR1glN7PerIjxagw=s64",
      "userId": "18008548834088300151"
     },
     "user_tz": -180
    },
    "id": "FOepTuVBObsM",
    "outputId": "d50f5a2a-f31c-4167-a959-3a89385d12c0"
   },
   "outputs": [
    {
     "data": {
      "text/plain": [
       "Leisure and Holidays              2840\n",
       "Business                           671\n",
       "Visiting Friends and Relatives     633\n",
       "Meetings and Conference            312\n",
       "Volunteering                       138\n",
       "Other                              128\n",
       "Scientific and Academic             87\n",
       "Name: purpose, dtype: int64"
      ]
     },
     "execution_count": 25,
     "metadata": {
      "tags": []
     },
     "output_type": "execute_result"
    }
   ],
   "source": [
    "train.purpose.value_counts()"
   ]
  },
  {
   "cell_type": "code",
   "execution_count": 26,
   "metadata": {
    "colab": {
     "base_uri": "https://localhost:8080/"
    },
    "executionInfo": {
     "elapsed": 1165,
     "status": "ok",
     "timestamp": 1607963801776,
     "user": {
      "displayName": "ANTHONY HILA",
      "photoUrl": "https://lh3.googleusercontent.com/a-/AOh14GjKFCVT4z-M6jvu_Q2zlkNMrMUR1glN7PerIjxagw=s64",
      "userId": "18008548834088300151"
     },
     "user_tz": -180
    },
    "id": "qJBYq62gObsM",
    "outputId": "07a0dfac-460b-4656-b99f-2efb5666aa80"
   },
   "outputs": [
    {
     "data": {
      "text/plain": [
       "['ID',\n",
       " 'country',\n",
       " 'age_group',\n",
       " 'travel_with',\n",
       " 'total_female',\n",
       " 'total_male',\n",
       " 'purpose',\n",
       " 'main_activity',\n",
       " 'info_source',\n",
       " 'tour_arrangement',\n",
       " 'package_transport_int',\n",
       " 'package_accomodation',\n",
       " 'package_food',\n",
       " 'package_transport_tz',\n",
       " 'package_sightseeing',\n",
       " 'package_guided_tour',\n",
       " 'package_insurance',\n",
       " 'night_mainland',\n",
       " 'night_zanzibar',\n",
       " 'payment_mode',\n",
       " 'first_trip_tz',\n",
       " 'most_impressing',\n",
       " 'total_cost']"
      ]
     },
     "execution_count": 26,
     "metadata": {
      "tags": []
     },
     "output_type": "execute_result"
    }
   ],
   "source": [
    "data=pd.concat([train,test],sort=False).reset_index(drop=True)\n",
    "data.columns.tolist()"
   ]
  },
  {
   "cell_type": "code",
   "execution_count": 27,
   "metadata": {
    "colab": {
     "base_uri": "https://localhost:8080/"
    },
    "executionInfo": {
     "elapsed": 1234,
     "status": "ok",
     "timestamp": 1607963803686,
     "user": {
      "displayName": "ANTHONY HILA",
      "photoUrl": "https://lh3.googleusercontent.com/a-/AOh14GjKFCVT4z-M6jvu_Q2zlkNMrMUR1glN7PerIjxagw=s64",
      "userId": "18008548834088300151"
     },
     "user_tz": -180
    },
    "id": "7pTT0LPbObsM",
    "outputId": "1879384b-67b2-4e40-ea2e-211b649aac57"
   },
   "outputs": [
    {
     "data": {
      "text/plain": [
       "(6410, 23)"
      ]
     },
     "execution_count": 27,
     "metadata": {
      "tags": []
     },
     "output_type": "execute_result"
    }
   ],
   "source": [
    "data.shape"
   ]
  },
  {
   "cell_type": "code",
   "execution_count": 28,
   "metadata": {
    "colab": {
     "base_uri": "https://localhost:8080/"
    },
    "executionInfo": {
     "elapsed": 1134,
     "status": "ok",
     "timestamp": 1607963804137,
     "user": {
      "displayName": "ANTHONY HILA",
      "photoUrl": "https://lh3.googleusercontent.com/a-/AOh14GjKFCVT4z-M6jvu_Q2zlkNMrMUR1glN7PerIjxagw=s64",
      "userId": "18008548834088300151"
     },
     "user_tz": -180
    },
    "id": "MHs4fVIXObsN",
    "outputId": "3edc6252-b035-4d1d-c715-ed7b7442d4da"
   },
   "outputs": [
    {
     "data": {
      "text/plain": [
       "array(['Friends, relatives', 'others', 'Travel, agent, tour operator',\n",
       "       'Radio, TV, Web', 'Tanzania Mission Abroad', 'inflight magazines',\n",
       "       'Newspaper, magazines,brochures', 'Trade fair'], dtype=object)"
      ]
     },
     "execution_count": 28,
     "metadata": {
      "tags": []
     },
     "output_type": "execute_result"
    }
   ],
   "source": [
    "data.info_source.unique()"
   ]
  },
  {
   "cell_type": "code",
   "execution_count": 29,
   "metadata": {
    "colab": {
     "base_uri": "https://localhost:8080/"
    },
    "executionInfo": {
     "elapsed": 1306,
     "status": "ok",
     "timestamp": 1607963804664,
     "user": {
      "displayName": "ANTHONY HILA",
      "photoUrl": "https://lh3.googleusercontent.com/a-/AOh14GjKFCVT4z-M6jvu_Q2zlkNMrMUR1glN7PerIjxagw=s64",
      "userId": "18008548834088300151"
     },
     "user_tz": -180
    },
    "id": "A7GVcXQGObsN",
    "outputId": "99745d3a-0cb0-45ee-a32d-fe7d37f2d63b"
   },
   "outputs": [
    {
     "data": {
      "text/plain": [
       "Travel, agent, tour operator      2568\n",
       "Friends, relatives                2195\n",
       "others                             618\n",
       "Newspaper, magazines,brochures     477\n",
       "Radio, TV, Web                     335\n",
       "Trade fair                         107\n",
       "Tanzania Mission Abroad             80\n",
       "inflight magazines                  30\n",
       "Name: info_source, dtype: int64"
      ]
     },
     "execution_count": 29,
     "metadata": {
      "tags": []
     },
     "output_type": "execute_result"
    }
   ],
   "source": [
    "data.info_source.value_counts()"
   ]
  },
  {
   "cell_type": "code",
   "execution_count": 30,
   "metadata": {
    "colab": {
     "base_uri": "https://localhost:8080/"
    },
    "executionInfo": {
     "elapsed": 831,
     "status": "ok",
     "timestamp": 1607963805228,
     "user": {
      "displayName": "ANTHONY HILA",
      "photoUrl": "https://lh3.googleusercontent.com/a-/AOh14GjKFCVT4z-M6jvu_Q2zlkNMrMUR1glN7PerIjxagw=s64",
      "userId": "18008548834088300151"
     },
     "user_tz": -180
    },
    "id": "iesFPtvMObsN",
    "outputId": "892d5bdd-321f-4847-aae9-5a9d141b513c"
   },
   "outputs": [
    {
     "data": {
      "text/plain": [
       "array(['Independent', 'Package Tour'], dtype=object)"
      ]
     },
     "execution_count": 30,
     "metadata": {
      "tags": []
     },
     "output_type": "execute_result"
    }
   ],
   "source": [
    "data.tour_arrangement.unique()"
   ]
  },
  {
   "cell_type": "code",
   "execution_count": 31,
   "metadata": {
    "colab": {
     "base_uri": "https://localhost:8080/"
    },
    "executionInfo": {
     "elapsed": 876,
     "status": "ok",
     "timestamp": 1607963805889,
     "user": {
      "displayName": "ANTHONY HILA",
      "photoUrl": "https://lh3.googleusercontent.com/a-/AOh14GjKFCVT4z-M6jvu_Q2zlkNMrMUR1glN7PerIjxagw=s64",
      "userId": "18008548834088300151"
     },
     "user_tz": -180
    },
    "id": "fEkg5f73ObsN",
    "outputId": "a0ca2eaa-dd14-4db2-9eb3-af848eaf4fec"
   },
   "outputs": [
    {
     "data": {
      "text/plain": [
       "Independent     3426\n",
       "Package Tour    2984\n",
       "Name: tour_arrangement, dtype: int64"
      ]
     },
     "execution_count": 31,
     "metadata": {
      "tags": []
     },
     "output_type": "execute_result"
    }
   ],
   "source": [
    "data.tour_arrangement.value_counts()"
   ]
  },
  {
   "cell_type": "code",
   "execution_count": 32,
   "metadata": {
    "colab": {
     "base_uri": "https://localhost:8080/"
    },
    "executionInfo": {
     "elapsed": 884,
     "status": "ok",
     "timestamp": 1607963806519,
     "user": {
      "displayName": "ANTHONY HILA",
      "photoUrl": "https://lh3.googleusercontent.com/a-/AOh14GjKFCVT4z-M6jvu_Q2zlkNMrMUR1glN7PerIjxagw=s64",
      "userId": "18008548834088300151"
     },
     "user_tz": -180
    },
    "id": "fSoTLKjNObsO",
    "outputId": "425f5733-3a54-454d-9d59-12002be94dd9"
   },
   "outputs": [
    {
     "data": {
      "text/plain": [
       "array(['No', 'Yes'], dtype=object)"
      ]
     },
     "execution_count": 32,
     "metadata": {
      "tags": []
     },
     "output_type": "execute_result"
    }
   ],
   "source": [
    "data.package_transport_int.unique()"
   ]
  },
  {
   "cell_type": "code",
   "execution_count": 33,
   "metadata": {
    "colab": {
     "base_uri": "https://localhost:8080/"
    },
    "executionInfo": {
     "elapsed": 1191,
     "status": "ok",
     "timestamp": 1607963807245,
     "user": {
      "displayName": "ANTHONY HILA",
      "photoUrl": "https://lh3.googleusercontent.com/a-/AOh14GjKFCVT4z-M6jvu_Q2zlkNMrMUR1glN7PerIjxagw=s64",
      "userId": "18008548834088300151"
     },
     "user_tz": -180
    },
    "id": "AM9asgq3ObsO",
    "outputId": "d08c5d4c-c6db-43d5-9389-197a468a5fff"
   },
   "outputs": [
    {
     "data": {
      "text/plain": [
       "array(['No', 'Yes'], dtype=object)"
      ]
     },
     "execution_count": 33,
     "metadata": {
      "tags": []
     },
     "output_type": "execute_result"
    }
   ],
   "source": [
    "data.package_accomodation.unique()"
   ]
  },
  {
   "cell_type": "code",
   "execution_count": 34,
   "metadata": {
    "colab": {
     "base_uri": "https://localhost:8080/"
    },
    "executionInfo": {
     "elapsed": 945,
     "status": "ok",
     "timestamp": 1607963807252,
     "user": {
      "displayName": "ANTHONY HILA",
      "photoUrl": "https://lh3.googleusercontent.com/a-/AOh14GjKFCVT4z-M6jvu_Q2zlkNMrMUR1glN7PerIjxagw=s64",
      "userId": "18008548834088300151"
     },
     "user_tz": -180
    },
    "id": "_zCA-G7bObsO",
    "outputId": "b561cfad-cfe7-4d6c-b76d-b96071391987"
   },
   "outputs": [
    {
     "data": {
      "text/plain": [
       "array(['No', 'Yes'], dtype=object)"
      ]
     },
     "execution_count": 34,
     "metadata": {
      "tags": []
     },
     "output_type": "execute_result"
    }
   ],
   "source": [
    "data.package_food.unique()"
   ]
  },
  {
   "cell_type": "code",
   "execution_count": 35,
   "metadata": {
    "colab": {
     "base_uri": "https://localhost:8080/"
    },
    "executionInfo": {
     "elapsed": 1300,
     "status": "ok",
     "timestamp": 1607963807906,
     "user": {
      "displayName": "ANTHONY HILA",
      "photoUrl": "https://lh3.googleusercontent.com/a-/AOh14GjKFCVT4z-M6jvu_Q2zlkNMrMUR1glN7PerIjxagw=s64",
      "userId": "18008548834088300151"
     },
     "user_tz": -180
    },
    "id": "YznxcSO_ObsO",
    "outputId": "b8cef156-52c3-427e-ef8f-b4073960bc6a"
   },
   "outputs": [
    {
     "data": {
      "text/plain": [
       "array(['No', 'Yes'], dtype=object)"
      ]
     },
     "execution_count": 35,
     "metadata": {
      "tags": []
     },
     "output_type": "execute_result"
    }
   ],
   "source": [
    "data.package_transport_tz.unique()"
   ]
  },
  {
   "cell_type": "code",
   "execution_count": 36,
   "metadata": {
    "colab": {
     "base_uri": "https://localhost:8080/"
    },
    "executionInfo": {
     "elapsed": 1341,
     "status": "ok",
     "timestamp": 1607963809085,
     "user": {
      "displayName": "ANTHONY HILA",
      "photoUrl": "https://lh3.googleusercontent.com/a-/AOh14GjKFCVT4z-M6jvu_Q2zlkNMrMUR1glN7PerIjxagw=s64",
      "userId": "18008548834088300151"
     },
     "user_tz": -180
    },
    "id": "Bw-BXb9_ObsP",
    "outputId": "daaa41bf-63cd-49fa-aad7-b06f5dbb3178"
   },
   "outputs": [
    {
     "data": {
      "text/plain": [
       "array(['No', 'Yes'], dtype=object)"
      ]
     },
     "execution_count": 36,
     "metadata": {
      "tags": []
     },
     "output_type": "execute_result"
    }
   ],
   "source": [
    "data.package_sightseeing.unique()"
   ]
  },
  {
   "cell_type": "code",
   "execution_count": 37,
   "metadata": {
    "colab": {
     "base_uri": "https://localhost:8080/"
    },
    "executionInfo": {
     "elapsed": 1027,
     "status": "ok",
     "timestamp": 1607963809087,
     "user": {
      "displayName": "ANTHONY HILA",
      "photoUrl": "https://lh3.googleusercontent.com/a-/AOh14GjKFCVT4z-M6jvu_Q2zlkNMrMUR1glN7PerIjxagw=s64",
      "userId": "18008548834088300151"
     },
     "user_tz": -180
    },
    "id": "Lx85hh-yObsP",
    "outputId": "fc505b8b-a699-48d1-8048-48e94600105f"
   },
   "outputs": [
    {
     "data": {
      "text/plain": [
       "array(['No', 'Yes'], dtype=object)"
      ]
     },
     "execution_count": 37,
     "metadata": {
      "tags": []
     },
     "output_type": "execute_result"
    }
   ],
   "source": [
    "data.package_guided_tour.unique()"
   ]
  },
  {
   "cell_type": "code",
   "execution_count": 38,
   "metadata": {
    "colab": {
     "base_uri": "https://localhost:8080/"
    },
    "executionInfo": {
     "elapsed": 1403,
     "status": "ok",
     "timestamp": 1607963809701,
     "user": {
      "displayName": "ANTHONY HILA",
      "photoUrl": "https://lh3.googleusercontent.com/a-/AOh14GjKFCVT4z-M6jvu_Q2zlkNMrMUR1glN7PerIjxagw=s64",
      "userId": "18008548834088300151"
     },
     "user_tz": -180
    },
    "id": "Bf48HqyTObsP",
    "outputId": "2f5546ee-cee5-4d7e-ddd8-27077567fe89"
   },
   "outputs": [
    {
     "data": {
      "text/plain": [
       "array(['No', 'Yes'], dtype=object)"
      ]
     },
     "execution_count": 38,
     "metadata": {
      "tags": []
     },
     "output_type": "execute_result"
    }
   ],
   "source": [
    "data.package_insurance.unique()"
   ]
  },
  {
   "cell_type": "code",
   "execution_count": 39,
   "metadata": {
    "colab": {
     "base_uri": "https://localhost:8080/"
    },
    "executionInfo": {
     "elapsed": 1638,
     "status": "ok",
     "timestamp": 1607963810611,
     "user": {
      "displayName": "ANTHONY HILA",
      "photoUrl": "https://lh3.googleusercontent.com/a-/AOh14GjKFCVT4z-M6jvu_Q2zlkNMrMUR1glN7PerIjxagw=s64",
      "userId": "18008548834088300151"
     },
     "user_tz": -180
    },
    "id": "c0HUvwWnObsP",
    "outputId": "df323409-a4d0-4418-ea10-bd469cff243a"
   },
   "outputs": [
    {
     "data": {
      "text/plain": [
       "array(['Cash', 'Credit Card', 'Other', 'Travellers Cheque'], dtype=object)"
      ]
     },
     "execution_count": 39,
     "metadata": {
      "tags": []
     },
     "output_type": "execute_result"
    }
   ],
   "source": [
    "data.payment_mode.unique()"
   ]
  },
  {
   "cell_type": "code",
   "execution_count": 40,
   "metadata": {
    "colab": {
     "base_uri": "https://localhost:8080/"
    },
    "executionInfo": {
     "elapsed": 1865,
     "status": "ok",
     "timestamp": 1607963811179,
     "user": {
      "displayName": "ANTHONY HILA",
      "photoUrl": "https://lh3.googleusercontent.com/a-/AOh14GjKFCVT4z-M6jvu_Q2zlkNMrMUR1glN7PerIjxagw=s64",
      "userId": "18008548834088300151"
     },
     "user_tz": -180
    },
    "id": "5kgh1rNWObsQ",
    "outputId": "6b9a17b8-7d98-433f-975c-a495bb899c58"
   },
   "outputs": [
    {
     "data": {
      "text/plain": [
       "Cash                 5550\n",
       "Credit Card           839\n",
       "Other                  13\n",
       "Travellers Cheque       8\n",
       "Name: payment_mode, dtype: int64"
      ]
     },
     "execution_count": 40,
     "metadata": {
      "tags": []
     },
     "output_type": "execute_result"
    }
   ],
   "source": [
    "data.payment_mode.value_counts()"
   ]
  },
  {
   "cell_type": "code",
   "execution_count": 41,
   "metadata": {
    "colab": {
     "base_uri": "https://localhost:8080/"
    },
    "executionInfo": {
     "elapsed": 1628,
     "status": "ok",
     "timestamp": 1607963811181,
     "user": {
      "displayName": "ANTHONY HILA",
      "photoUrl": "https://lh3.googleusercontent.com/a-/AOh14GjKFCVT4z-M6jvu_Q2zlkNMrMUR1glN7PerIjxagw=s64",
      "userId": "18008548834088300151"
     },
     "user_tz": -180
    },
    "id": "vBKwgXYqObsQ",
    "outputId": "64c433ee-a647-4bc1-bd81-1c7bf063c73b"
   },
   "outputs": [
    {
     "data": {
      "text/plain": [
       "array(['No', 'Yes'], dtype=object)"
      ]
     },
     "execution_count": 41,
     "metadata": {
      "tags": []
     },
     "output_type": "execute_result"
    }
   ],
   "source": [
    "data.first_trip_tz.unique()"
   ]
  },
  {
   "cell_type": "code",
   "execution_count": 42,
   "metadata": {
    "colab": {
     "base_uri": "https://localhost:8080/"
    },
    "executionInfo": {
     "elapsed": 1348,
     "status": "ok",
     "timestamp": 1607963811182,
     "user": {
      "displayName": "ANTHONY HILA",
      "photoUrl": "https://lh3.googleusercontent.com/a-/AOh14GjKFCVT4z-M6jvu_Q2zlkNMrMUR1glN7PerIjxagw=s64",
      "userId": "18008548834088300151"
     },
     "user_tz": -180
    },
    "id": "xsa5u3LqObsQ",
    "outputId": "9497cae0-2920-4cd4-f8fe-23a42e507897"
   },
   "outputs": [
    {
     "data": {
      "text/plain": [
       "Yes    4348\n",
       "No     2062\n",
       "Name: first_trip_tz, dtype: int64"
      ]
     },
     "execution_count": 42,
     "metadata": {
      "tags": []
     },
     "output_type": "execute_result"
    }
   ],
   "source": [
    "data.first_trip_tz.value_counts()"
   ]
  },
  {
   "cell_type": "code",
   "execution_count": 43,
   "metadata": {
    "colab": {
     "base_uri": "https://localhost:8080/"
    },
    "executionInfo": {
     "elapsed": 1654,
     "status": "ok",
     "timestamp": 1607963811641,
     "user": {
      "displayName": "ANTHONY HILA",
      "photoUrl": "https://lh3.googleusercontent.com/a-/AOh14GjKFCVT4z-M6jvu_Q2zlkNMrMUR1glN7PerIjxagw=s64",
      "userId": "18008548834088300151"
     },
     "user_tz": -180
    },
    "id": "n3HqcZ0CObsQ",
    "outputId": "a34aac9d-b7ff-4807-b474-1f9d7fa85c60"
   },
   "outputs": [
    {
     "data": {
      "text/plain": [
       "array(['Friendly People', 'Wonderful Country, Landscape, Nature',\n",
       "       'Excellent Experience', 'No comments', ' Wildlife', nan,\n",
       "       'Good service', 'Satisfies and Hope Come Back'], dtype=object)"
      ]
     },
     "execution_count": 43,
     "metadata": {
      "tags": []
     },
     "output_type": "execute_result"
    }
   ],
   "source": [
    "data.most_impressing.unique()"
   ]
  },
  {
   "cell_type": "code",
   "execution_count": 44,
   "metadata": {
    "colab": {
     "base_uri": "https://localhost:8080/"
    },
    "executionInfo": {
     "elapsed": 1381,
     "status": "ok",
     "timestamp": 1607963811642,
     "user": {
      "displayName": "ANTHONY HILA",
      "photoUrl": "https://lh3.googleusercontent.com/a-/AOh14GjKFCVT4z-M6jvu_Q2zlkNMrMUR1glN7PerIjxagw=s64",
      "userId": "18008548834088300151"
     },
     "user_tz": -180
    },
    "id": "pqt-2q9nObsR",
    "outputId": "93f15714-3298-45f5-9350-c4d9aa794f09"
   },
   "outputs": [
    {
     "data": {
      "text/plain": [
       "Friendly People                         2058\n",
       " Wildlife                               1387\n",
       "No comments                             1010\n",
       "Wonderful Country, Landscape, Nature     675\n",
       "Good service                             467\n",
       "Excellent Experience                     350\n",
       "Satisfies and Hope Come Back              39\n",
       "Name: most_impressing, dtype: int64"
      ]
     },
     "execution_count": 44,
     "metadata": {
      "tags": []
     },
     "output_type": "execute_result"
    }
   ],
   "source": [
    "data.most_impressing.value_counts()"
   ]
  },
  {
   "cell_type": "code",
   "execution_count": 45,
   "metadata": {
    "colab": {
     "base_uri": "https://localhost:8080/"
    },
    "executionInfo": {
     "elapsed": 1129,
     "status": "ok",
     "timestamp": 1607963811643,
     "user": {
      "displayName": "ANTHONY HILA",
      "photoUrl": "https://lh3.googleusercontent.com/a-/AOh14GjKFCVT4z-M6jvu_Q2zlkNMrMUR1glN7PerIjxagw=s64",
      "userId": "18008548834088300151"
     },
     "user_tz": -180
    },
    "id": "FxF_6P6qObsR",
    "outputId": "01f67398-c05e-4799-c6b9-ca75afb5b01a"
   },
   "outputs": [
    {
     "data": {
      "text/plain": [
       "(49000.0, 99532875.0)"
      ]
     },
     "execution_count": 45,
     "metadata": {
      "tags": []
     },
     "output_type": "execute_result"
    }
   ],
   "source": [
    "data.total_cost.min() , data.total_cost.max()"
   ]
  },
  {
   "cell_type": "code",
   "execution_count": 46,
   "metadata": {
    "colab": {
     "base_uri": "https://localhost:8080/"
    },
    "executionInfo": {
     "elapsed": 1351,
     "status": "ok",
     "timestamp": 1607963812084,
     "user": {
      "displayName": "ANTHONY HILA",
      "photoUrl": "https://lh3.googleusercontent.com/a-/AOh14GjKFCVT4z-M6jvu_Q2zlkNMrMUR1glN7PerIjxagw=s64",
      "userId": "18008548834088300151"
     },
     "user_tz": -180
    },
    "id": "h_F9KydgObsR",
    "outputId": "2bc9382a-c0fd-4325-f96b-a7cbd36462a0"
   },
   "outputs": [
    {
     "data": {
      "text/plain": [
       "True"
      ]
     },
     "execution_count": 46,
     "metadata": {
      "tags": []
     },
     "output_type": "execute_result"
    }
   ],
   "source": [
    "data.isnull().sum().any()"
   ]
  },
  {
   "cell_type": "code",
   "execution_count": 47,
   "metadata": {
    "colab": {
     "base_uri": "https://localhost:8080/"
    },
    "executionInfo": {
     "elapsed": 1372,
     "status": "ok",
     "timestamp": 1607963813804,
     "user": {
      "displayName": "ANTHONY HILA",
      "photoUrl": "https://lh3.googleusercontent.com/a-/AOh14GjKFCVT4z-M6jvu_Q2zlkNMrMUR1glN7PerIjxagw=s64",
      "userId": "18008548834088300151"
     },
     "user_tz": -180
    },
    "id": "FmS80RppObsR",
    "outputId": "a155e9fd-084d-4c0b-a819-86bd84359961"
   },
   "outputs": [
    {
     "data": {
      "text/plain": [
       "ID                          0\n",
       "country                     0\n",
       "age_group                   0\n",
       "travel_with              1441\n",
       "total_female                4\n",
       "total_male                  7\n",
       "purpose                     0\n",
       "main_activity               0\n",
       "info_source                 0\n",
       "tour_arrangement            0\n",
       "package_transport_int       0\n",
       "package_accomodation        0\n",
       "package_food                0\n",
       "package_transport_tz        0\n",
       "package_sightseeing         0\n",
       "package_guided_tour         0\n",
       "package_insurance           0\n",
       "night_mainland              0\n",
       "night_zanzibar              0\n",
       "payment_mode                0\n",
       "first_trip_tz               0\n",
       "most_impressing           424\n",
       "total_cost               1601\n",
       "dtype: int64"
      ]
     },
     "execution_count": 47,
     "metadata": {
      "tags": []
     },
     "output_type": "execute_result"
    }
   ],
   "source": [
    "data.isnull().sum()"
   ]
  },
  {
   "cell_type": "code",
   "execution_count": 53,
   "metadata": {
    "executionInfo": {
     "elapsed": 1155,
     "status": "ok",
     "timestamp": 1607963835961,
     "user": {
      "displayName": "ANTHONY HILA",
      "photoUrl": "https://lh3.googleusercontent.com/a-/AOh14GjKFCVT4z-M6jvu_Q2zlkNMrMUR1glN7PerIjxagw=s64",
      "userId": "18008548834088300151"
     },
     "user_tz": -180
    },
    "id": "GBtI95ZVObsR"
   },
   "outputs": [],
   "source": [
    "# Filling null values"
   ]
  },
  {
   "cell_type": "code",
   "execution_count": 54,
   "metadata": {
    "executionInfo": {
     "elapsed": 943,
     "status": "ok",
     "timestamp": 1607963836672,
     "user": {
      "displayName": "ANTHONY HILA",
      "photoUrl": "https://lh3.googleusercontent.com/a-/AOh14GjKFCVT4z-M6jvu_Q2zlkNMrMUR1glN7PerIjxagw=s64",
      "userId": "18008548834088300151"
     },
     "user_tz": -180
    },
    "id": "rLqnNbkuObsS"
   },
   "outputs": [],
   "source": [
    "data.travel_with.fillna('xxx',inplace=True)"
   ]
  },
  {
   "cell_type": "code",
   "execution_count": 55,
   "metadata": {
    "executionInfo": {
     "elapsed": 779,
     "status": "ok",
     "timestamp": 1607963838066,
     "user": {
      "displayName": "ANTHONY HILA",
      "photoUrl": "https://lh3.googleusercontent.com/a-/AOh14GjKFCVT4z-M6jvu_Q2zlkNMrMUR1glN7PerIjxagw=s64",
      "userId": "18008548834088300151"
     },
     "user_tz": -180
    },
    "id": "M11UHjkrObsS"
   },
   "outputs": [],
   "source": [
    "data.most_impressing.fillna('xxx',inplace=True)"
   ]
  },
  {
   "cell_type": "code",
   "execution_count": 56,
   "metadata": {
    "executionInfo": {
     "elapsed": 819,
     "status": "ok",
     "timestamp": 1607963838790,
     "user": {
      "displayName": "ANTHONY HILA",
      "photoUrl": "https://lh3.googleusercontent.com/a-/AOh14GjKFCVT4z-M6jvu_Q2zlkNMrMUR1glN7PerIjxagw=s64",
      "userId": "18008548834088300151"
     },
     "user_tz": -180
    },
    "id": "cBEbNolSObsS"
   },
   "outputs": [],
   "source": [
    "data.total_female.fillna(data.total_female.mean(),inplace = True)"
   ]
  },
  {
   "cell_type": "code",
   "execution_count": 57,
   "metadata": {
    "executionInfo": {
     "elapsed": 1141,
     "status": "ok",
     "timestamp": 1607963839497,
     "user": {
      "displayName": "ANTHONY HILA",
      "photoUrl": "https://lh3.googleusercontent.com/a-/AOh14GjKFCVT4z-M6jvu_Q2zlkNMrMUR1glN7PerIjxagw=s64",
      "userId": "18008548834088300151"
     },
     "user_tz": -180
    },
    "id": "f7HDS8S4ObsS"
   },
   "outputs": [],
   "source": [
    "data.total_male.fillna(data.total_male.mean(),inplace = True)"
   ]
  },
  {
   "cell_type": "code",
   "execution_count": 58,
   "metadata": {
    "colab": {
     "base_uri": "https://localhost:8080/"
    },
    "executionInfo": {
     "elapsed": 775,
     "status": "ok",
     "timestamp": 1607963839499,
     "user": {
      "displayName": "ANTHONY HILA",
      "photoUrl": "https://lh3.googleusercontent.com/a-/AOh14GjKFCVT4z-M6jvu_Q2zlkNMrMUR1glN7PerIjxagw=s64",
      "userId": "18008548834088300151"
     },
     "user_tz": -180
    },
    "id": "GhOSS7f2ObsS",
    "outputId": "bcd79cd5-2e93-4b5f-e4bb-26c0525d86fa"
   },
   "outputs": [
    {
     "data": {
      "text/plain": [
       "ID                          0\n",
       "country                     0\n",
       "age_group                   0\n",
       "travel_with                 0\n",
       "total_female                0\n",
       "total_male                  0\n",
       "purpose                     0\n",
       "main_activity               0\n",
       "info_source                 0\n",
       "tour_arrangement            0\n",
       "package_transport_int       0\n",
       "package_accomodation        0\n",
       "package_food                0\n",
       "package_transport_tz        0\n",
       "package_sightseeing         0\n",
       "package_guided_tour         0\n",
       "package_insurance           0\n",
       "night_mainland              0\n",
       "night_zanzibar              0\n",
       "payment_mode                0\n",
       "first_trip_tz               0\n",
       "most_impressing             0\n",
       "total_cost               1601\n",
       "dtype: int64"
      ]
     },
     "execution_count": 58,
     "metadata": {
      "tags": []
     },
     "output_type": "execute_result"
    }
   ],
   "source": [
    "data.isnull().sum()"
   ]
  },
  {
   "cell_type": "markdown",
   "metadata": {
    "id": "DRJXYcyzHSri"
   },
   "source": [
    "#### PREPROCESSING OF FEATURES"
   ]
  },
  {
   "cell_type": "code",
   "execution_count": 60,
   "metadata": {
    "executionInfo": {
     "elapsed": 1209,
     "status": "ok",
     "timestamp": 1607963874254,
     "user": {
      "displayName": "ANTHONY HILA",
      "photoUrl": "https://lh3.googleusercontent.com/a-/AOh14GjKFCVT4z-M6jvu_Q2zlkNMrMUR1glN7PerIjxagw=s64",
      "userId": "18008548834088300151"
     },
     "user_tz": -180
    },
    "id": "D8mLLWk0ObsT"
   },
   "outputs": [],
   "source": [
    "## cotegorical variable conversion\n",
    "#import preprocessing module \n",
    "from sklearn.preprocessing import LabelEncoder\n",
    "le = LabelEncoder()\n",
    "# data['tour_arrangement'] = le.fit_transform(data['tour_arrangement'])\n",
    "data['age_group'] = le.fit_transform(data['age_group'])\n",
    "data['package_transport_int'] = le.fit_transform(data['package_transport_int'])\n",
    "data['package_accomodation'] = le.fit_transform(data['package_accomodation'])\n",
    "data['package_food'] = le.fit_transform(data['package_food'])\n",
    "data['package_transport_tz'] = le.fit_transform(data['package_transport_tz'])\n",
    "data['package_sightseeing'] = le.fit_transform(data['package_sightseeing'])\n",
    "data['package_guided_tour'] = le.fit_transform(data['package_guided_tour'])\n",
    "data['package_insurance'] = le.fit_transform(data['package_insurance'])\n",
    "data['first_trip_tz'] = le.fit_transform(data['first_trip_tz'])\n",
    "data['country'] = le.fit_transform(data['country'])"
   ]
  },
  {
   "cell_type": "code",
   "execution_count": 61,
   "metadata": {
    "executionInfo": {
     "elapsed": 1178,
     "status": "ok",
     "timestamp": 1607963888937,
     "user": {
      "displayName": "ANTHONY HILA",
      "photoUrl": "https://lh3.googleusercontent.com/a-/AOh14GjKFCVT4z-M6jvu_Q2zlkNMrMUR1glN7PerIjxagw=s64",
      "userId": "18008548834088300151"
     },
     "user_tz": -180
    },
    "id": "Td9sKEsM_FRS"
   },
   "outputs": [],
   "source": [
    "# Frequency encoding for countries\n",
    "# ctry = data.groupby(\"country\").size()/len(data)\n",
    "# data[\"country\"] = data[\"country\"].map(ctry)"
   ]
  },
  {
   "cell_type": "code",
   "execution_count": 64,
   "metadata": {
    "colab": {
     "base_uri": "https://localhost:8080/",
     "height": 357
    },
    "executionInfo": {
     "elapsed": 866,
     "status": "error",
     "timestamp": 1607963908324,
     "user": {
      "displayName": "ANTHONY HILA",
      "photoUrl": "https://lh3.googleusercontent.com/a-/AOh14GjKFCVT4z-M6jvu_Q2zlkNMrMUR1glN7PerIjxagw=s64",
      "userId": "18008548834088300151"
     },
     "user_tz": -180
    },
    "id": "EFgPShapObsT",
    "outputId": "85375188-6106-4c55-8229-de83774c3187"
   },
   "outputs": [
    {
     "ename": "KeyError",
     "evalue": "ignored",
     "output_type": "error",
     "traceback": [
      "\u001b[0;31m---------------------------------------------------------------------------\u001b[0m",
      "\u001b[0;31mKeyError\u001b[0m                                  Traceback (most recent call last)",
      "\u001b[0;32m<ipython-input-64-e38c185fe7bd>\u001b[0m in \u001b[0;36m<module>\u001b[0;34m()\u001b[0m\n\u001b[1;32m      1\u001b[0m \u001b[0;31m## For other variables let's use get dummies\u001b[0m\u001b[0;34m\u001b[0m\u001b[0;34m\u001b[0m\u001b[0;34m\u001b[0m\u001b[0m\n\u001b[1;32m      2\u001b[0m \u001b[0mcolumns_to_transform\u001b[0m \u001b[0;34m=\u001b[0m \u001b[0;34m[\u001b[0m\u001b[0;34m'tour_arrangement'\u001b[0m\u001b[0;34m,\u001b[0m\u001b[0;34m'travel_with'\u001b[0m\u001b[0;34m,\u001b[0m\u001b[0;34m'purpose'\u001b[0m\u001b[0;34m,\u001b[0m\u001b[0;34m'main_activity'\u001b[0m\u001b[0;34m,\u001b[0m\u001b[0;34m'info_source'\u001b[0m\u001b[0;34m,\u001b[0m\u001b[0;34m'most_impressing'\u001b[0m\u001b[0;34m,\u001b[0m\u001b[0;34m'payment_mode'\u001b[0m\u001b[0;34m]\u001b[0m\u001b[0;34m\u001b[0m\u001b[0;34m\u001b[0m\u001b[0m\n\u001b[0;32m----> 3\u001b[0;31m \u001b[0mdata\u001b[0m \u001b[0;34m=\u001b[0m \u001b[0mpd\u001b[0m\u001b[0;34m.\u001b[0m\u001b[0mget_dummies\u001b[0m\u001b[0;34m(\u001b[0m \u001b[0mdata\u001b[0m\u001b[0;34m,\u001b[0m\u001b[0mcolumns\u001b[0m \u001b[0;34m=\u001b[0m \u001b[0mcolumns_to_transform\u001b[0m\u001b[0;34m)\u001b[0m\u001b[0;34m\u001b[0m\u001b[0;34m\u001b[0m\u001b[0m\n\u001b[0m\u001b[1;32m      4\u001b[0m \u001b[0mdata\u001b[0m\u001b[0;34m.\u001b[0m\u001b[0mhead\u001b[0m\u001b[0;34m(\u001b[0m\u001b[0;34m)\u001b[0m\u001b[0;34m\u001b[0m\u001b[0;34m\u001b[0m\u001b[0m\n",
      "\u001b[0;32m/usr/local/lib/python3.6/dist-packages/pandas/core/reshape/reshape.py\u001b[0m in \u001b[0;36mget_dummies\u001b[0;34m(data, prefix, prefix_sep, dummy_na, columns, sparse, drop_first, dtype)\u001b[0m\n\u001b[1;32m    841\u001b[0m             \u001b[0;32mraise\u001b[0m \u001b[0mTypeError\u001b[0m\u001b[0;34m(\u001b[0m\u001b[0;34m\"Input must be a list-like for parameter `columns`\"\u001b[0m\u001b[0;34m)\u001b[0m\u001b[0;34m\u001b[0m\u001b[0;34m\u001b[0m\u001b[0m\n\u001b[1;32m    842\u001b[0m         \u001b[0;32melse\u001b[0m\u001b[0;34m:\u001b[0m\u001b[0;34m\u001b[0m\u001b[0;34m\u001b[0m\u001b[0m\n\u001b[0;32m--> 843\u001b[0;31m             \u001b[0mdata_to_encode\u001b[0m \u001b[0;34m=\u001b[0m \u001b[0mdata\u001b[0m\u001b[0;34m[\u001b[0m\u001b[0mcolumns\u001b[0m\u001b[0;34m]\u001b[0m\u001b[0;34m\u001b[0m\u001b[0;34m\u001b[0m\u001b[0m\n\u001b[0m\u001b[1;32m    844\u001b[0m \u001b[0;34m\u001b[0m\u001b[0m\n\u001b[1;32m    845\u001b[0m         \u001b[0;31m# validate prefixes and separator to avoid silently dropping cols\u001b[0m\u001b[0;34m\u001b[0m\u001b[0;34m\u001b[0m\u001b[0;34m\u001b[0m\u001b[0m\n",
      "\u001b[0;32m/usr/local/lib/python3.6/dist-packages/pandas/core/frame.py\u001b[0m in \u001b[0;36m__getitem__\u001b[0;34m(self, key)\u001b[0m\n\u001b[1;32m   2910\u001b[0m             \u001b[0;32mif\u001b[0m \u001b[0mis_iterator\u001b[0m\u001b[0;34m(\u001b[0m\u001b[0mkey\u001b[0m\u001b[0;34m)\u001b[0m\u001b[0;34m:\u001b[0m\u001b[0;34m\u001b[0m\u001b[0;34m\u001b[0m\u001b[0m\n\u001b[1;32m   2911\u001b[0m                 \u001b[0mkey\u001b[0m \u001b[0;34m=\u001b[0m \u001b[0mlist\u001b[0m\u001b[0;34m(\u001b[0m\u001b[0mkey\u001b[0m\u001b[0;34m)\u001b[0m\u001b[0;34m\u001b[0m\u001b[0;34m\u001b[0m\u001b[0m\n\u001b[0;32m-> 2912\u001b[0;31m             \u001b[0mindexer\u001b[0m \u001b[0;34m=\u001b[0m \u001b[0mself\u001b[0m\u001b[0;34m.\u001b[0m\u001b[0mloc\u001b[0m\u001b[0;34m.\u001b[0m\u001b[0m_get_listlike_indexer\u001b[0m\u001b[0;34m(\u001b[0m\u001b[0mkey\u001b[0m\u001b[0;34m,\u001b[0m \u001b[0maxis\u001b[0m\u001b[0;34m=\u001b[0m\u001b[0;36m1\u001b[0m\u001b[0;34m,\u001b[0m \u001b[0mraise_missing\u001b[0m\u001b[0;34m=\u001b[0m\u001b[0;32mTrue\u001b[0m\u001b[0;34m)\u001b[0m\u001b[0;34m[\u001b[0m\u001b[0;36m1\u001b[0m\u001b[0;34m]\u001b[0m\u001b[0;34m\u001b[0m\u001b[0;34m\u001b[0m\u001b[0m\n\u001b[0m\u001b[1;32m   2913\u001b[0m \u001b[0;34m\u001b[0m\u001b[0m\n\u001b[1;32m   2914\u001b[0m         \u001b[0;31m# take() does not accept boolean indexers\u001b[0m\u001b[0;34m\u001b[0m\u001b[0;34m\u001b[0m\u001b[0;34m\u001b[0m\u001b[0m\n",
      "\u001b[0;32m/usr/local/lib/python3.6/dist-packages/pandas/core/indexing.py\u001b[0m in \u001b[0;36m_get_listlike_indexer\u001b[0;34m(self, key, axis, raise_missing)\u001b[0m\n\u001b[1;32m   1252\u001b[0m             \u001b[0mkeyarr\u001b[0m\u001b[0;34m,\u001b[0m \u001b[0mindexer\u001b[0m\u001b[0;34m,\u001b[0m \u001b[0mnew_indexer\u001b[0m \u001b[0;34m=\u001b[0m \u001b[0max\u001b[0m\u001b[0;34m.\u001b[0m\u001b[0m_reindex_non_unique\u001b[0m\u001b[0;34m(\u001b[0m\u001b[0mkeyarr\u001b[0m\u001b[0;34m)\u001b[0m\u001b[0;34m\u001b[0m\u001b[0;34m\u001b[0m\u001b[0m\n\u001b[1;32m   1253\u001b[0m \u001b[0;34m\u001b[0m\u001b[0m\n\u001b[0;32m-> 1254\u001b[0;31m         \u001b[0mself\u001b[0m\u001b[0;34m.\u001b[0m\u001b[0m_validate_read_indexer\u001b[0m\u001b[0;34m(\u001b[0m\u001b[0mkeyarr\u001b[0m\u001b[0;34m,\u001b[0m \u001b[0mindexer\u001b[0m\u001b[0;34m,\u001b[0m \u001b[0maxis\u001b[0m\u001b[0;34m,\u001b[0m \u001b[0mraise_missing\u001b[0m\u001b[0;34m=\u001b[0m\u001b[0mraise_missing\u001b[0m\u001b[0;34m)\u001b[0m\u001b[0;34m\u001b[0m\u001b[0;34m\u001b[0m\u001b[0m\n\u001b[0m\u001b[1;32m   1255\u001b[0m         \u001b[0;32mreturn\u001b[0m \u001b[0mkeyarr\u001b[0m\u001b[0;34m,\u001b[0m \u001b[0mindexer\u001b[0m\u001b[0;34m\u001b[0m\u001b[0;34m\u001b[0m\u001b[0m\n\u001b[1;32m   1256\u001b[0m \u001b[0;34m\u001b[0m\u001b[0m\n",
      "\u001b[0;32m/usr/local/lib/python3.6/dist-packages/pandas/core/indexing.py\u001b[0m in \u001b[0;36m_validate_read_indexer\u001b[0;34m(self, key, indexer, axis, raise_missing)\u001b[0m\n\u001b[1;32m   1296\u001b[0m             \u001b[0;32mif\u001b[0m \u001b[0mmissing\u001b[0m \u001b[0;34m==\u001b[0m \u001b[0mlen\u001b[0m\u001b[0;34m(\u001b[0m\u001b[0mindexer\u001b[0m\u001b[0;34m)\u001b[0m\u001b[0;34m:\u001b[0m\u001b[0;34m\u001b[0m\u001b[0;34m\u001b[0m\u001b[0m\n\u001b[1;32m   1297\u001b[0m                 \u001b[0maxis_name\u001b[0m \u001b[0;34m=\u001b[0m \u001b[0mself\u001b[0m\u001b[0;34m.\u001b[0m\u001b[0mobj\u001b[0m\u001b[0;34m.\u001b[0m\u001b[0m_get_axis_name\u001b[0m\u001b[0;34m(\u001b[0m\u001b[0maxis\u001b[0m\u001b[0;34m)\u001b[0m\u001b[0;34m\u001b[0m\u001b[0;34m\u001b[0m\u001b[0m\n\u001b[0;32m-> 1298\u001b[0;31m                 \u001b[0;32mraise\u001b[0m \u001b[0mKeyError\u001b[0m\u001b[0;34m(\u001b[0m\u001b[0;34mf\"None of [{key}] are in the [{axis_name}]\"\u001b[0m\u001b[0;34m)\u001b[0m\u001b[0;34m\u001b[0m\u001b[0;34m\u001b[0m\u001b[0m\n\u001b[0m\u001b[1;32m   1299\u001b[0m \u001b[0;34m\u001b[0m\u001b[0m\n\u001b[1;32m   1300\u001b[0m             \u001b[0;31m# We (temporarily) allow for some missing keys with .loc, except in\u001b[0m\u001b[0;34m\u001b[0m\u001b[0;34m\u001b[0m\u001b[0;34m\u001b[0m\u001b[0m\n",
      "\u001b[0;31mKeyError\u001b[0m: \"None of [Index(['tour_arrangement', 'travel_with', 'purpose', 'main_activity',\\n       'info_source', 'most_impressing', 'payment_mode'],\\n      dtype='object')] are in the [columns]\""
     ]
    }
   ],
   "source": [
    "## For other variables let's use get dummies\n",
    "columns_to_transform = ['tour_arrangement','travel_with','purpose','main_activity','info_source','most_impressing','payment_mode']\n",
    "data = pd.get_dummies( data,columns = columns_to_transform)\n",
    "data.head()"
   ]
  },
  {
   "cell_type": "code",
   "execution_count": 66,
   "metadata": {
    "executionInfo": {
     "elapsed": 1207,
     "status": "ok",
     "timestamp": 1607963937404,
     "user": {
      "displayName": "ANTHONY HILA",
      "photoUrl": "https://lh3.googleusercontent.com/a-/AOh14GjKFCVT4z-M6jvu_Q2zlkNMrMUR1glN7PerIjxagw=s64",
      "userId": "18008548834088300151"
     },
     "user_tz": -180
    },
    "id": "IWOQ8oCiObsT"
   },
   "outputs": [],
   "source": [
    "## convert float dtypes to int[total_female,total_male,night_mainland,night_zanzibar]\n",
    "data[\"total_female\"] = data['total_female'].astype('int')\n",
    "data[\"total_male\"] = data['total_male'].astype('int')\n",
    "data[\"night_mainland\"] = data['night_mainland'].astype('int')\n",
    "data[\"night_zanzibar\"] = data['night_zanzibar'].astype('int')"
   ]
  },
  {
   "cell_type": "code",
   "execution_count": 67,
   "metadata": {
    "executionInfo": {
     "elapsed": 1145,
     "status": "ok",
     "timestamp": 1607963942251,
     "user": {
      "displayName": "ANTHONY HILA",
      "photoUrl": "https://lh3.googleusercontent.com/a-/AOh14GjKFCVT4z-M6jvu_Q2zlkNMrMUR1glN7PerIjxagw=s64",
      "userId": "18008548834088300151"
     },
     "user_tz": -180
    },
    "id": "ufn1hEEUgQyE"
   },
   "outputs": [],
   "source": [
    "# feature creation\n",
    "data[\"total_people\"] = data[\"total_female\"] + data[\"total_male\"]\n",
    "\n",
    "data[\"total_nights\"] = data[\"night_mainland\"] + data[\"night_zanzibar\"]\n"
   ]
  },
  {
   "cell_type": "code",
   "execution_count": 68,
   "metadata": {
    "executionInfo": {
     "elapsed": 1456,
     "status": "ok",
     "timestamp": 1607963956832,
     "user": {
      "displayName": "ANTHONY HILA",
      "photoUrl": "https://lh3.googleusercontent.com/a-/AOh14GjKFCVT4z-M6jvu_Q2zlkNMrMUR1glN7PerIjxagw=s64",
      "userId": "18008548834088300151"
     },
     "user_tz": -180
    },
    "id": "IiO9yeUCGRMo"
   },
   "outputs": [],
   "source": [
    "#more features\n",
    "# data[\"people_per_nights\"] = data[\"total_people\"] / data[\"total_nights\"]\n",
    "\n",
    "# data[\"people_per_female\"] = data[\"total_people\"] / data[\"total_female\"]\n",
    "\n",
    "# data[\"people_per_male\"] = data[\"total_people\"] / data[\"total_male\"]\n",
    "\n",
    "# data[\"nights_per_male\"] = data[\"total_nights\"] / data[\"total_male\"]\n",
    "\n",
    "# data[\"nights_per_female\"] = data[\"total_nights\"] / data[\"total_female\"]\n",
    "\n"
   ]
  },
  {
   "cell_type": "code",
   "execution_count": 71,
   "metadata": {
    "executionInfo": {
     "elapsed": 1138,
     "status": "ok",
     "timestamp": 1607963965181,
     "user": {
      "displayName": "ANTHONY HILA",
      "photoUrl": "https://lh3.googleusercontent.com/a-/AOh14GjKFCVT4z-M6jvu_Q2zlkNMrMUR1glN7PerIjxagw=s64",
      "userId": "18008548834088300151"
     },
     "user_tz": -180
    },
    "id": "urf-JnAxNJon"
   },
   "outputs": [],
   "source": [
    "# data.isnull().sum()."
   ]
  },
  {
   "cell_type": "code",
   "execution_count": 72,
   "metadata": {
    "executionInfo": {
     "elapsed": 865,
     "status": "ok",
     "timestamp": 1607963965668,
     "user": {
      "displayName": "ANTHONY HILA",
      "photoUrl": "https://lh3.googleusercontent.com/a-/AOh14GjKFCVT4z-M6jvu_Q2zlkNMrMUR1glN7PerIjxagw=s64",
      "userId": "18008548834088300151"
     },
     "user_tz": -180
    },
    "id": "Jsvw1KOYz60G"
   },
   "outputs": [],
   "source": [
    "# data[\"total_female\"].min() , data[\"total_female\"].max()  "
   ]
  },
  {
   "cell_type": "code",
   "execution_count": 73,
   "metadata": {
    "executionInfo": {
     "elapsed": 1633,
     "status": "ok",
     "timestamp": 1607963966882,
     "user": {
      "displayName": "ANTHONY HILA",
      "photoUrl": "https://lh3.googleusercontent.com/a-/AOh14GjKFCVT4z-M6jvu_Q2zlkNMrMUR1glN7PerIjxagw=s64",
      "userId": "18008548834088300151"
     },
     "user_tz": -180
    },
    "id": "C-D0I6DDz7-g"
   },
   "outputs": [],
   "source": [
    "# data[\"total_male\"].min() , data[\"total_male\"].max()"
   ]
  },
  {
   "cell_type": "code",
   "execution_count": 74,
   "metadata": {
    "colab": {
     "base_uri": "https://localhost:8080/"
    },
    "executionInfo": {
     "elapsed": 1681,
     "status": "ok",
     "timestamp": 1607963967398,
     "user": {
      "displayName": "ANTHONY HILA",
      "photoUrl": "https://lh3.googleusercontent.com/a-/AOh14GjKFCVT4z-M6jvu_Q2zlkNMrMUR1glN7PerIjxagw=s64",
      "userId": "18008548834088300151"
     },
     "user_tz": -180
    },
    "id": "JrHtlhuEObsT",
    "outputId": "a5c7d5ee-9927-4787-9489-d9e880e05994"
   },
   "outputs": [
    {
     "name": "stdout",
     "output_type": "stream",
     "text": [
      "<class 'pandas.core.frame.DataFrame'>\n",
      "RangeIndex: 6410 entries, 0 to 6409\n",
      "Data columns (total 62 columns):\n",
      " #   Column                                                Non-Null Count  Dtype  \n",
      "---  ------                                                --------------  -----  \n",
      " 0   ID                                                    6410 non-null   object \n",
      " 1   country                                               6410 non-null   int64  \n",
      " 2   age_group                                             6410 non-null   int64  \n",
      " 3   total_female                                          6410 non-null   int64  \n",
      " 4   total_male                                            6410 non-null   int64  \n",
      " 5   package_transport_int                                 6410 non-null   int64  \n",
      " 6   package_accomodation                                  6410 non-null   int64  \n",
      " 7   package_food                                          6410 non-null   int64  \n",
      " 8   package_transport_tz                                  6410 non-null   int64  \n",
      " 9   package_sightseeing                                   6410 non-null   int64  \n",
      " 10  package_guided_tour                                   6410 non-null   int64  \n",
      " 11  package_insurance                                     6410 non-null   int64  \n",
      " 12  night_mainland                                        6410 non-null   int64  \n",
      " 13  night_zanzibar                                        6410 non-null   int64  \n",
      " 14  first_trip_tz                                         6410 non-null   int64  \n",
      " 15  total_cost                                            4809 non-null   float64\n",
      " 16  tour_arrangement_Independent                          6410 non-null   uint8  \n",
      " 17  tour_arrangement_Package Tour                         6410 non-null   uint8  \n",
      " 18  travel_with_Alone                                     6410 non-null   uint8  \n",
      " 19  travel_with_Children                                  6410 non-null   uint8  \n",
      " 20  travel_with_Friends/Relatives                         6410 non-null   uint8  \n",
      " 21  travel_with_Spouse                                    6410 non-null   uint8  \n",
      " 22  travel_with_Spouse and Children                       6410 non-null   uint8  \n",
      " 23  travel_with_xxx                                       6410 non-null   uint8  \n",
      " 24  purpose_Business                                      6410 non-null   uint8  \n",
      " 25  purpose_Leisure and Holidays                          6410 non-null   uint8  \n",
      " 26  purpose_Meetings and Conference                       6410 non-null   uint8  \n",
      " 27  purpose_Other                                         6410 non-null   uint8  \n",
      " 28  purpose_Scientific and Academic                       6410 non-null   uint8  \n",
      " 29  purpose_Visiting Friends and Relatives                6410 non-null   uint8  \n",
      " 30  purpose_Volunteering                                  6410 non-null   uint8  \n",
      " 31  main_activity_Beach tourism                           6410 non-null   uint8  \n",
      " 32  main_activity_Bird watching                           6410 non-null   uint8  \n",
      " 33  main_activity_Conference tourism                      6410 non-null   uint8  \n",
      " 34  main_activity_Cultural tourism                        6410 non-null   uint8  \n",
      " 35  main_activity_Diving and Sport Fishing                6410 non-null   uint8  \n",
      " 36  main_activity_Hunting tourism                         6410 non-null   uint8  \n",
      " 37  main_activity_Mountain climbing                       6410 non-null   uint8  \n",
      " 38  main_activity_Wildlife tourism                        6410 non-null   uint8  \n",
      " 39  main_activity_business                                6410 non-null   uint8  \n",
      " 40  info_source_Friends, relatives                        6410 non-null   uint8  \n",
      " 41  info_source_Newspaper, magazines,brochures            6410 non-null   uint8  \n",
      " 42  info_source_Radio, TV, Web                            6410 non-null   uint8  \n",
      " 43  info_source_Tanzania Mission Abroad                   6410 non-null   uint8  \n",
      " 44  info_source_Trade fair                                6410 non-null   uint8  \n",
      " 45  info_source_Travel, agent, tour operator              6410 non-null   uint8  \n",
      " 46  info_source_inflight magazines                        6410 non-null   uint8  \n",
      " 47  info_source_others                                    6410 non-null   uint8  \n",
      " 48  most_impressing_ Wildlife                             6410 non-null   uint8  \n",
      " 49  most_impressing_Excellent Experience                  6410 non-null   uint8  \n",
      " 50  most_impressing_Friendly People                       6410 non-null   uint8  \n",
      " 51  most_impressing_Good service                          6410 non-null   uint8  \n",
      " 52  most_impressing_No comments                           6410 non-null   uint8  \n",
      " 53  most_impressing_Satisfies and Hope Come Back          6410 non-null   uint8  \n",
      " 54  most_impressing_Wonderful Country, Landscape, Nature  6410 non-null   uint8  \n",
      " 55  most_impressing_xxx                                   6410 non-null   uint8  \n",
      " 56  payment_mode_Cash                                     6410 non-null   uint8  \n",
      " 57  payment_mode_Credit Card                              6410 non-null   uint8  \n",
      " 58  payment_mode_Other                                    6410 non-null   uint8  \n",
      " 59  payment_mode_Travellers Cheque                        6410 non-null   uint8  \n",
      " 60  total_people                                          6410 non-null   int64  \n",
      " 61  total_nights                                          6410 non-null   int64  \n",
      "dtypes: float64(1), int64(16), object(1), uint8(44)\n",
      "memory usage: 1.1+ MB\n"
     ]
    }
   ],
   "source": [
    "data.info()"
   ]
  },
  {
   "cell_type": "code",
   "execution_count": 75,
   "metadata": {
    "executionInfo": {
     "elapsed": 1182,
     "status": "ok",
     "timestamp": 1607963974961,
     "user": {
      "displayName": "ANTHONY HILA",
      "photoUrl": "https://lh3.googleusercontent.com/a-/AOh14GjKFCVT4z-M6jvu_Q2zlkNMrMUR1glN7PerIjxagw=s64",
      "userId": "18008548834088300151"
     },
     "user_tz": -180
    },
    "id": "FwL5FhmEH_8-"
   },
   "outputs": [],
   "source": [
    "# data = data.replace([np.inf], np.nan)"
   ]
  },
  {
   "cell_type": "code",
   "execution_count": 76,
   "metadata": {
    "executionInfo": {
     "elapsed": 1609,
     "status": "ok",
     "timestamp": 1607963981411,
     "user": {
      "displayName": "ANTHONY HILA",
      "photoUrl": "https://lh3.googleusercontent.com/a-/AOh14GjKFCVT4z-M6jvu_Q2zlkNMrMUR1glN7PerIjxagw=s64",
      "userId": "18008548834088300151"
     },
     "user_tz": -180
    },
    "id": "xqZVd1iRJ2tz"
   },
   "outputs": [],
   "source": [
    "# data.fillna(data.mean() , inplace=True)"
   ]
  },
  {
   "cell_type": "code",
   "execution_count": 77,
   "metadata": {
    "executionInfo": {
     "elapsed": 936,
     "status": "ok",
     "timestamp": 1607963981418,
     "user": {
      "displayName": "ANTHONY HILA",
      "photoUrl": "https://lh3.googleusercontent.com/a-/AOh14GjKFCVT4z-M6jvu_Q2zlkNMrMUR1glN7PerIjxagw=s64",
      "userId": "18008548834088300151"
     },
     "user_tz": -180
    },
    "id": "hwYnleSaObsU"
   },
   "outputs": [],
   "source": [
    "## separating data into train and test\n",
    "\n",
    "train=data[data.total_cost.notnull()].reset_index(drop=True)\n",
    "test=data[data.total_cost.isna()].reset_index(drop=True)"
   ]
  },
  {
   "cell_type": "code",
   "execution_count": 78,
   "metadata": {
    "colab": {
     "base_uri": "https://localhost:8080/"
    },
    "executionInfo": {
     "elapsed": 1127,
     "status": "ok",
     "timestamp": 1607963981995,
     "user": {
      "displayName": "ANTHONY HILA",
      "photoUrl": "https://lh3.googleusercontent.com/a-/AOh14GjKFCVT4z-M6jvu_Q2zlkNMrMUR1glN7PerIjxagw=s64",
      "userId": "18008548834088300151"
     },
     "user_tz": -180
    },
    "id": "wV-ygtUPObsU",
    "outputId": "b5b73c81-666c-44ed-8a09-44898851cec1"
   },
   "outputs": [
    {
     "data": {
      "text/plain": [
       "((4809, 62), (1601, 62))"
      ]
     },
     "execution_count": 78,
     "metadata": {
      "tags": []
     },
     "output_type": "execute_result"
    }
   ],
   "source": [
    "train.shape , test.shape"
   ]
  },
  {
   "cell_type": "markdown",
   "metadata": {
    "id": "m2MSJNANObsU"
   },
   "source": [
    "#### FEATURE SELECTION"
   ]
  },
  {
   "cell_type": "code",
   "execution_count": 79,
   "metadata": {
    "executionInfo": {
     "elapsed": 1200,
     "status": "ok",
     "timestamp": 1607963983799,
     "user": {
      "displayName": "ANTHONY HILA",
      "photoUrl": "https://lh3.googleusercontent.com/a-/AOh14GjKFCVT4z-M6jvu_Q2zlkNMrMUR1glN7PerIjxagw=s64",
      "userId": "18008548834088300151"
     },
     "user_tz": -180
    },
    "id": "U_x5jxgGObsU"
   },
   "outputs": [],
   "source": [
    "feat_cols = train.drop([\"ID\",\"total_cost\"],1)"
   ]
  },
  {
   "cell_type": "code",
   "execution_count": 80,
   "metadata": {
    "executionInfo": {
     "elapsed": 1086,
     "status": "ok",
     "timestamp": 1607963986010,
     "user": {
      "displayName": "ANTHONY HILA",
      "photoUrl": "https://lh3.googleusercontent.com/a-/AOh14GjKFCVT4z-M6jvu_Q2zlkNMrMUR1glN7PerIjxagw=s64",
      "userId": "18008548834088300151"
     },
     "user_tz": -180
    },
    "id": "ewPzrr6mObsU"
   },
   "outputs": [],
   "source": [
    "cols = feat_cols.columns"
   ]
  },
  {
   "cell_type": "code",
   "execution_count": 81,
   "metadata": {
    "executionInfo": {
     "elapsed": 1301,
     "status": "ok",
     "timestamp": 1607963990057,
     "user": {
      "displayName": "ANTHONY HILA",
      "photoUrl": "https://lh3.googleusercontent.com/a-/AOh14GjKFCVT4z-M6jvu_Q2zlkNMrMUR1glN7PerIjxagw=s64",
      "userId": "18008548834088300151"
     },
     "user_tz": -180
    },
    "id": "YMH7EiM5ObsV"
   },
   "outputs": [],
   "source": [
    "target=train[\"total_cost\"]"
   ]
  },
  {
   "cell_type": "code",
   "execution_count": 82,
   "metadata": {
    "colab": {
     "base_uri": "https://localhost:8080/"
    },
    "executionInfo": {
     "elapsed": 1147,
     "status": "ok",
     "timestamp": 1607963990518,
     "user": {
      "displayName": "ANTHONY HILA",
      "photoUrl": "https://lh3.googleusercontent.com/a-/AOh14GjKFCVT4z-M6jvu_Q2zlkNMrMUR1glN7PerIjxagw=s64",
      "userId": "18008548834088300151"
     },
     "user_tz": -180
    },
    "id": "B3e2DxapObsV",
    "outputId": "89f30aac-a9d8-4920-a1a1-d8df8cc4fc83"
   },
   "outputs": [
    {
     "data": {
      "text/plain": [
       "((4809, 60), (4809,))"
      ]
     },
     "execution_count": 82,
     "metadata": {
      "tags": []
     },
     "output_type": "execute_result"
    }
   ],
   "source": [
    "train[cols].shape , target.shape"
   ]
  },
  {
   "cell_type": "markdown",
   "metadata": {},
   "source": [
    "#### MODELLING"
   ]
  },
  {
   "cell_type": "code",
   "execution_count": 83,
   "metadata": {
    "executionInfo": {
     "elapsed": 796,
     "status": "ok",
     "timestamp": 1607963990955,
     "user": {
      "displayName": "ANTHONY HILA",
      "photoUrl": "https://lh3.googleusercontent.com/a-/AOh14GjKFCVT4z-M6jvu_Q2zlkNMrMUR1glN7PerIjxagw=s64",
      "userId": "18008548834088300151"
     },
     "user_tz": -180
    },
    "id": "H8qO0rPxObsV"
   },
   "outputs": [],
   "source": [
    "SEED = 2020"
   ]
  },
  {
   "cell_type": "code",
   "execution_count": 84,
   "metadata": {
    "executionInfo": {
     "elapsed": 772,
     "status": "ok",
     "timestamp": 1607963992515,
     "user": {
      "displayName": "ANTHONY HILA",
      "photoUrl": "https://lh3.googleusercontent.com/a-/AOh14GjKFCVT4z-M6jvu_Q2zlkNMrMUR1glN7PerIjxagw=s64",
      "userId": "18008548834088300151"
     },
     "user_tz": -180
    },
    "id": "gV6nlGFwObsV"
   },
   "outputs": [],
   "source": [
    "from sklearn.model_selection import train_test_split\n",
    "from sklearn.model_selection import KFold, cross_val_score"
   ]
  },
  {
   "cell_type": "code",
   "execution_count": 85,
   "metadata": {
    "colab": {
     "base_uri": "https://localhost:8080/"
    },
    "executionInfo": {
     "elapsed": 739,
     "status": "ok",
     "timestamp": 1607963993891,
     "user": {
      "displayName": "ANTHONY HILA",
      "photoUrl": "https://lh3.googleusercontent.com/a-/AOh14GjKFCVT4z-M6jvu_Q2zlkNMrMUR1glN7PerIjxagw=s64",
      "userId": "18008548834088300151"
     },
     "user_tz": -180
    },
    "id": "64bk_N7hObsV",
    "outputId": "7f5f3f78-06c6-4c4b-dc22-407b0a4799f5"
   },
   "outputs": [
    {
     "name": "stdout",
     "output_type": "stream",
     "text": [
      "(3847, 60) (3847,)\n",
      "(962, 60) (962,)\n"
     ]
    }
   ],
   "source": [
    "# create training and testing vars\n",
    "X_train, X_test, y_train, y_test = train_test_split(train[cols],target, test_size=0.20, random_state = SEED)\n",
    "print (X_train.shape, y_train.shape)\n",
    "print (X_test.shape, y_test.shape)"
   ]
  },
  {
   "cell_type": "markdown",
   "metadata": {
    "id": "CpRrHkfcObsX"
   },
   "source": [
    "#### EXTREME GRADIENT BOOST"
   ]
  },
  {
   "cell_type": "code",
   "execution_count": 86,
   "metadata": {
    "executionInfo": {
     "elapsed": 1657,
     "status": "ok",
     "timestamp": 1607964018544,
     "user": {
      "displayName": "ANTHONY HILA",
      "photoUrl": "https://lh3.googleusercontent.com/a-/AOh14GjKFCVT4z-M6jvu_Q2zlkNMrMUR1glN7PerIjxagw=s64",
      "userId": "18008548834088300151"
     },
     "user_tz": -180
    },
    "id": "IdBfm3n2ObsX"
   },
   "outputs": [],
   "source": [
    "from xgboost import XGBRegressor"
   ]
  },
  {
   "cell_type": "code",
   "execution_count": 96,
   "metadata": {
    "executionInfo": {
     "elapsed": 9825,
     "status": "ok",
     "timestamp": 1607964300772,
     "user": {
      "displayName": "ANTHONY HILA",
      "photoUrl": "https://lh3.googleusercontent.com/a-/AOh14GjKFCVT4z-M6jvu_Q2zlkNMrMUR1glN7PerIjxagw=s64",
      "userId": "18008548834088300151"
     },
     "user_tz": -180
    },
    "id": "8vqiCjgmRcJA"
   },
   "outputs": [],
   "source": [
    "#instatiate the model\n",
    "xgb=XGBRegressor( n_estimators= 100, colsample_bynode = 0.8, learning_rate = 0.02,max_depth =  7)\n",
    "# xgb=XGBRegressor()\n"
   ]
  },
  {
   "cell_type": "code",
   "execution_count": 3,
   "metadata": {},
   "outputs": [],
   "source": [
    "#Training"
   ]
  },
  {
   "cell_type": "code",
   "execution_count": 97,
   "metadata": {
    "colab": {
     "base_uri": "https://localhost:8080/"
    },
    "executionInfo": {
     "elapsed": 7703,
     "status": "ok",
     "timestamp": 1607964300776,
     "user": {
      "displayName": "ANTHONY HILA",
      "photoUrl": "https://lh3.googleusercontent.com/a-/AOh14GjKFCVT4z-M6jvu_Q2zlkNMrMUR1glN7PerIjxagw=s64",
      "userId": "18008548834088300151"
     },
     "user_tz": -180
    },
    "id": "rsGu1jaURcsP",
    "outputId": "abeec3a1-9693-4654-f34a-93b747390656"
   },
   "outputs": [
    {
     "name": "stdout",
     "output_type": "stream",
     "text": [
      "[16:44:59] WARNING: /workspace/src/objective/regression_obj.cu:152: reg:linear is now deprecated in favor of reg:squarederror.\n"
     ]
    }
   ],
   "source": [
    "xgb.fit(X_train, y_train)\n",
    "y_pred = xgb.predict(X_test)"
   ]
  },
  {
   "cell_type": "code",
   "execution_count": 2,
   "metadata": {},
   "outputs": [],
   "source": [
    "#Evaluation"
   ]
  },
  {
   "cell_type": "code",
   "execution_count": 98,
   "metadata": {
    "colab": {
     "base_uri": "https://localhost:8080/"
    },
    "executionInfo": {
     "elapsed": 6957,
     "status": "ok",
     "timestamp": 1607964301928,
     "user": {
      "displayName": "ANTHONY HILA",
      "photoUrl": "https://lh3.googleusercontent.com/a-/AOh14GjKFCVT4z-M6jvu_Q2zlkNMrMUR1glN7PerIjxagw=s64",
      "userId": "18008548834088300151"
     },
     "user_tz": -180
    },
    "id": "DXXnmGnQRe2A",
    "outputId": "98ca482c-2c58-4383-e0b2-5a808897c888"
   },
   "outputs": [
    {
     "name": "stdout",
     "output_type": "stream",
     "text": [
      "Using scikit-lean, the error is 4843029.55641736\n"
     ]
    }
   ],
   "source": [
    "mae = mean_absolute_error(y_test, y_pred)\n",
    "print('Using scikit-lean, the error is {}'.format(mae))"
   ]
  },
  {
   "cell_type": "code",
   "execution_count": 4,
   "metadata": {},
   "outputs": [],
   "source": [
    "#Prediction"
   ]
  },
  {
   "cell_type": "code",
   "execution_count": 99,
   "metadata": {
    "executionInfo": {
     "elapsed": 2943,
     "status": "ok",
     "timestamp": 1607964301931,
     "user": {
      "displayName": "ANTHONY HILA",
      "photoUrl": "https://lh3.googleusercontent.com/a-/AOh14GjKFCVT4z-M6jvu_Q2zlkNMrMUR1glN7PerIjxagw=s64",
      "userId": "18008548834088300151"
     },
     "user_tz": -180
    },
    "id": "C4XgOsujSNvY"
   },
   "outputs": [],
   "source": [
    "sub = test[cols]\n",
    "predictions_xgb  = xgb.predict(sub)"
   ]
  },
  {
   "cell_type": "code",
   "execution_count": 5,
   "metadata": {},
   "outputs": [],
   "source": [
    "#Formating submission"
   ]
  },
  {
   "cell_type": "code",
   "execution_count": 100,
   "metadata": {
    "executionInfo": {
     "elapsed": 1946,
     "status": "ok",
     "timestamp": 1607964304942,
     "user": {
      "displayName": "ANTHONY HILA",
      "photoUrl": "https://lh3.googleusercontent.com/a-/AOh14GjKFCVT4z-M6jvu_Q2zlkNMrMUR1glN7PerIjxagw=s64",
      "userId": "18008548834088300151"
     },
     "user_tz": -180
    },
    "id": "oXr0sCUwSThH"
   },
   "outputs": [],
   "source": [
    "submission_df = pd.DataFrame({'ID': test.ID, 'total_cost': predictions_xgb}) # Creating a submission file"
   ]
  },
  {
   "cell_type": "code",
   "execution_count": 103,
   "metadata": {
    "colab": {
     "base_uri": "https://localhost:8080/"
    },
    "executionInfo": {
     "elapsed": 1152,
     "status": "ok",
     "timestamp": 1607964455850,
     "user": {
      "displayName": "ANTHONY HILA",
      "photoUrl": "https://lh3.googleusercontent.com/a-/AOh14GjKFCVT4z-M6jvu_Q2zlkNMrMUR1glN7PerIjxagw=s64",
      "userId": "18008548834088300151"
     },
     "user_tz": -180
    },
    "id": "C-xt2dG_SN82",
    "outputId": "abecea0c-8322-4ee0-abfb-65ad00e344fb"
   },
   "outputs": [
    {
     "name": "stdout",
     "output_type": "stream",
     "text": [
      "Saved file: xgboost_final_sub.csv\n"
     ]
    }
   ],
   "source": [
    "filename = 'xgboost_final_sub.csv'\n",
    "\n",
    "submission_df.to_csv(filename,index=False)\n",
    "\n",
    "print('Saved file: ' + filename)"
   ]
  },
  {
   "cell_type": "code",
   "execution_count": null,
   "metadata": {
    "id": "rwHoRJxapewL"
   },
   "outputs": [],
   "source": []
  }
 ],
 "metadata": {
  "accelerator": "GPU",
  "colab": {
   "collapsed_sections": [],
   "name": "Tourism Prediction ChallengeTz _ by_ Anthony_Mipawa.ipynb",
   "provenance": [],
   "toc_visible": true
  },
  "kernelspec": {
   "display_name": "Python 3",
   "language": "python",
   "name": "python3"
  },
  "language_info": {
   "codemirror_mode": {
    "name": "ipython",
    "version": 3
   },
   "file_extension": ".py",
   "mimetype": "text/x-python",
   "name": "python",
   "nbconvert_exporter": "python",
   "pygments_lexer": "ipython3",
   "version": "3.8.5"
  }
 },
 "nbformat": 4,
 "nbformat_minor": 1
}
