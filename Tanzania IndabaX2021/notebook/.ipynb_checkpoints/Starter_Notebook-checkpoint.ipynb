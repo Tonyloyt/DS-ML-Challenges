{
 "cells": [
  {
   "cell_type": "markdown",
   "metadata": {
    "id": "kZoYrrLR6T4c"
   },
   "source": [
    "# **Setup**"
   ]
  },
  {
   "cell_type": "code",
   "execution_count": 90,
   "metadata": {
    "id": "6KJkIDevAcOD"
   },
   "outputs": [],
   "source": [
    "import os, warnings\n",
    "import pandas as pd\n",
    "import numpy as np\n",
    "from sklearn.model_selection import StratifiedKFold\n",
    "from sklearn.preprocessing import StandardScaler \n",
    "from sklearn.metrics import auc, classification_report, roc_auc_score, accuracy_score\n",
    "from sklearn.ensemble import RandomForestClassifier\n",
    "from sklearn.model_selection import train_test_split\n",
    "\n",
    "import matplotlib.pyplot as plt\n",
    "import seaborn as sns\n",
    "%matplotlib inline\n",
    "\n",
    "import warnings\n",
    "warnings.simplefilter('ignore')"
   ]
  },
  {
   "cell_type": "markdown",
   "metadata": {
    "id": "Z4ZJR5FD6WFl"
   },
   "source": [
    "### Load Data"
   ]
  },
  {
   "cell_type": "code",
   "execution_count": 91,
   "metadata": {
    "id": "SC2E_65AxMrd"
   },
   "outputs": [],
   "source": [
    "train = pd.read_csv('../data/Train.csv')\n",
    "test = pd.read_csv('../data/Test.csv')\n",
    "submission = pd.read_csv('data/SampleSubmission.csv')"
   ]
  },
  {
   "cell_type": "code",
   "execution_count": 92,
   "metadata": {},
   "outputs": [
    {
     "data": {
      "text/html": [
       "<div>\n",
       "<style scoped>\n",
       "    .dataframe tbody tr th:only-of-type {\n",
       "        vertical-align: middle;\n",
       "    }\n",
       "\n",
       "    .dataframe tbody tr th {\n",
       "        vertical-align: top;\n",
       "    }\n",
       "\n",
       "    .dataframe thead th {\n",
       "        text-align: right;\n",
       "    }\n",
       "</style>\n",
       "<table border=\"1\" class=\"dataframe\">\n",
       "  <thead>\n",
       "    <tr style=\"text-align: right;\">\n",
       "      <th></th>\n",
       "      <th>ID</th>\n",
       "      <th>country_code</th>\n",
       "      <th>region</th>\n",
       "      <th>age</th>\n",
       "      <th>FQ1</th>\n",
       "      <th>FQ2</th>\n",
       "      <th>FQ3</th>\n",
       "      <th>FQ4</th>\n",
       "      <th>FQ5</th>\n",
       "      <th>FQ6</th>\n",
       "      <th>...</th>\n",
       "      <th>FQ27</th>\n",
       "      <th>FQ28</th>\n",
       "      <th>FQ29</th>\n",
       "      <th>FQ30</th>\n",
       "      <th>FQ31</th>\n",
       "      <th>FQ32</th>\n",
       "      <th>FQ33</th>\n",
       "      <th>FQ34</th>\n",
       "      <th>FQ37</th>\n",
       "      <th>Target</th>\n",
       "    </tr>\n",
       "  </thead>\n",
       "  <tbody>\n",
       "    <tr>\n",
       "      <th>0</th>\n",
       "      <td>ID_000J8GTZ</td>\n",
       "      <td>1</td>\n",
       "      <td>6</td>\n",
       "      <td>35.0</td>\n",
       "      <td>2</td>\n",
       "      <td>NaN</td>\n",
       "      <td>NaN</td>\n",
       "      <td>2</td>\n",
       "      <td>NaN</td>\n",
       "      <td>NaN</td>\n",
       "      <td>...</td>\n",
       "      <td>NaN</td>\n",
       "      <td>NaN</td>\n",
       "      <td>1.0</td>\n",
       "      <td>NaN</td>\n",
       "      <td>NaN</td>\n",
       "      <td>NaN</td>\n",
       "      <td>1.0</td>\n",
       "      <td>1.0</td>\n",
       "      <td>0</td>\n",
       "      <td>0</td>\n",
       "    </tr>\n",
       "    <tr>\n",
       "      <th>1</th>\n",
       "      <td>ID_000QLXZM</td>\n",
       "      <td>32</td>\n",
       "      <td>7</td>\n",
       "      <td>70.0</td>\n",
       "      <td>2</td>\n",
       "      <td>NaN</td>\n",
       "      <td>NaN</td>\n",
       "      <td>2</td>\n",
       "      <td>NaN</td>\n",
       "      <td>NaN</td>\n",
       "      <td>...</td>\n",
       "      <td>NaN</td>\n",
       "      <td>NaN</td>\n",
       "      <td>2.0</td>\n",
       "      <td>NaN</td>\n",
       "      <td>NaN</td>\n",
       "      <td>NaN</td>\n",
       "      <td>1.0</td>\n",
       "      <td>2.0</td>\n",
       "      <td>0</td>\n",
       "      <td>0</td>\n",
       "    </tr>\n",
       "    <tr>\n",
       "      <th>2</th>\n",
       "      <td>ID_001728I2</td>\n",
       "      <td>71</td>\n",
       "      <td>7</td>\n",
       "      <td>22.0</td>\n",
       "      <td>2</td>\n",
       "      <td>1.0</td>\n",
       "      <td>NaN</td>\n",
       "      <td>2</td>\n",
       "      <td>NaN</td>\n",
       "      <td>NaN</td>\n",
       "      <td>...</td>\n",
       "      <td>NaN</td>\n",
       "      <td>NaN</td>\n",
       "      <td>2.0</td>\n",
       "      <td>NaN</td>\n",
       "      <td>NaN</td>\n",
       "      <td>NaN</td>\n",
       "      <td>2.0</td>\n",
       "      <td>1.0</td>\n",
       "      <td>1</td>\n",
       "      <td>0</td>\n",
       "    </tr>\n",
       "    <tr>\n",
       "      <th>3</th>\n",
       "      <td>ID_001R7IDN</td>\n",
       "      <td>48</td>\n",
       "      <td>3</td>\n",
       "      <td>27.0</td>\n",
       "      <td>1</td>\n",
       "      <td>NaN</td>\n",
       "      <td>NaN</td>\n",
       "      <td>2</td>\n",
       "      <td>NaN</td>\n",
       "      <td>2.0</td>\n",
       "      <td>...</td>\n",
       "      <td>NaN</td>\n",
       "      <td>NaN</td>\n",
       "      <td>NaN</td>\n",
       "      <td>NaN</td>\n",
       "      <td>NaN</td>\n",
       "      <td>2.0</td>\n",
       "      <td>1.0</td>\n",
       "      <td>1.0</td>\n",
       "      <td>1</td>\n",
       "      <td>0</td>\n",
       "    </tr>\n",
       "    <tr>\n",
       "      <th>4</th>\n",
       "      <td>ID_0029QKF8</td>\n",
       "      <td>25</td>\n",
       "      <td>0</td>\n",
       "      <td>79.0</td>\n",
       "      <td>2</td>\n",
       "      <td>NaN</td>\n",
       "      <td>NaN</td>\n",
       "      <td>2</td>\n",
       "      <td>NaN</td>\n",
       "      <td>NaN</td>\n",
       "      <td>...</td>\n",
       "      <td>NaN</td>\n",
       "      <td>NaN</td>\n",
       "      <td>2.0</td>\n",
       "      <td>NaN</td>\n",
       "      <td>NaN</td>\n",
       "      <td>2.0</td>\n",
       "      <td>1.0</td>\n",
       "      <td>1.0</td>\n",
       "      <td>1</td>\n",
       "      <td>0</td>\n",
       "    </tr>\n",
       "  </tbody>\n",
       "</table>\n",
       "<p>5 rows × 42 columns</p>\n",
       "</div>"
      ],
      "text/plain": [
       "            ID  country_code  region   age  FQ1  FQ2  FQ3  FQ4  FQ5  FQ6  ...  \\\n",
       "0  ID_000J8GTZ             1       6  35.0    2  NaN  NaN    2  NaN  NaN  ...   \n",
       "1  ID_000QLXZM            32       7  70.0    2  NaN  NaN    2  NaN  NaN  ...   \n",
       "2  ID_001728I2            71       7  22.0    2  1.0  NaN    2  NaN  NaN  ...   \n",
       "3  ID_001R7IDN            48       3  27.0    1  NaN  NaN    2  NaN  2.0  ...   \n",
       "4  ID_0029QKF8            25       0  79.0    2  NaN  NaN    2  NaN  NaN  ...   \n",
       "\n",
       "   FQ27  FQ28  FQ29  FQ30  FQ31  FQ32  FQ33  FQ34  FQ37  Target  \n",
       "0   NaN   NaN   1.0   NaN   NaN   NaN   1.0   1.0     0       0  \n",
       "1   NaN   NaN   2.0   NaN   NaN   NaN   1.0   2.0     0       0  \n",
       "2   NaN   NaN   2.0   NaN   NaN   NaN   2.0   1.0     1       0  \n",
       "3   NaN   NaN   NaN   NaN   NaN   2.0   1.0   1.0     1       0  \n",
       "4   NaN   NaN   2.0   NaN   NaN   2.0   1.0   1.0     1       0  \n",
       "\n",
       "[5 rows x 42 columns]"
      ]
     },
     "execution_count": 92,
     "metadata": {},
     "output_type": "execute_result"
    }
   ],
   "source": [
    "#show train data \n",
    "\n",
    "train.head() "
   ]
  },
  {
   "cell_type": "code",
   "execution_count": 93,
   "metadata": {},
   "outputs": [
    {
     "name": "stdout",
     "output_type": "stream",
     "text": [
      "<class 'pandas.core.frame.DataFrame'>\n",
      "RangeIndex: 108446 entries, 0 to 108445\n",
      "Data columns (total 42 columns):\n",
      " #   Column        Non-Null Count   Dtype  \n",
      "---  ------        --------------   -----  \n",
      " 0   ID            108446 non-null  object \n",
      " 1   country_code  108446 non-null  int64  \n",
      " 2   region        108446 non-null  int64  \n",
      " 3   age           108124 non-null  float64\n",
      " 4   FQ1           108446 non-null  int64  \n",
      " 5   FQ2           49124 non-null   float64\n",
      " 6   FQ3           46218 non-null   float64\n",
      " 7   FQ4           108446 non-null  int64  \n",
      " 8   FQ5           21185 non-null   float64\n",
      " 9   FQ6           60659 non-null   float64\n",
      " 10  FQ7           60620 non-null   float64\n",
      " 11  FQ8           108446 non-null  int64  \n",
      " 12  FQ9           108446 non-null  int64  \n",
      " 13  FQ10          108446 non-null  int64  \n",
      " 14  FQ11          83876 non-null   float64\n",
      " 15  FQ12          108446 non-null  int64  \n",
      " 16  FQ13          108446 non-null  int64  \n",
      " 17  FQ14          108446 non-null  int64  \n",
      " 18  FQ15          108446 non-null  int64  \n",
      " 19  FQ16          108446 non-null  int64  \n",
      " 20  FQ17          11347 non-null   float64\n",
      " 21  FQ18          108446 non-null  int64  \n",
      " 22  FQ19          61039 non-null   float64\n",
      " 23  FQ20          83767 non-null   float64\n",
      " 24  FQ21          83811 non-null   float64\n",
      " 25  FQ22          108446 non-null  int64  \n",
      " 26  FQ23          108446 non-null  int64  \n",
      " 27  FQ24          38432 non-null   float64\n",
      " 28  FQ35          25889 non-null   float64\n",
      " 29  FQ36          11483 non-null   float64\n",
      " 30  FQ25          108446 non-null  int64  \n",
      " 31  FQ26          108446 non-null  int64  \n",
      " 32  FQ27          3200 non-null    float64\n",
      " 33  FQ28          1506 non-null    float64\n",
      " 34  FQ29          83912 non-null   float64\n",
      " 35  FQ30          2115 non-null    float64\n",
      " 36  FQ31          869 non-null     float64\n",
      " 37  FQ32          60796 non-null   float64\n",
      " 38  FQ33          108444 non-null  float64\n",
      " 39  FQ34          76652 non-null   float64\n",
      " 40  FQ37          108446 non-null  int64  \n",
      " 41  Target        108446 non-null  int64  \n",
      "dtypes: float64(22), int64(19), object(1)\n",
      "memory usage: 34.7+ MB\n"
     ]
    }
   ],
   "source": [
    "# check columns information \n",
    "\n",
    "train.info() "
   ]
  },
  {
   "cell_type": "code",
   "execution_count": 94,
   "metadata": {},
   "outputs": [
    {
     "data": {
      "text/plain": [
       "(108446, 42)"
      ]
     },
     "execution_count": 94,
     "metadata": {},
     "output_type": "execute_result"
    }
   ],
   "source": [
    "# shape of the train data\n",
    "\n",
    "train.shape "
   ]
  },
  {
   "cell_type": "code",
   "execution_count": 95,
   "metadata": {},
   "outputs": [
    {
     "data": {
      "text/html": [
       "<div>\n",
       "<style scoped>\n",
       "    .dataframe tbody tr th:only-of-type {\n",
       "        vertical-align: middle;\n",
       "    }\n",
       "\n",
       "    .dataframe tbody tr th {\n",
       "        vertical-align: top;\n",
       "    }\n",
       "\n",
       "    .dataframe thead th {\n",
       "        text-align: right;\n",
       "    }\n",
       "</style>\n",
       "<table border=\"1\" class=\"dataframe\">\n",
       "  <thead>\n",
       "    <tr style=\"text-align: right;\">\n",
       "      <th></th>\n",
       "      <th>ID</th>\n",
       "      <th>country_code</th>\n",
       "      <th>region</th>\n",
       "      <th>age</th>\n",
       "      <th>FQ1</th>\n",
       "      <th>FQ2</th>\n",
       "      <th>FQ3</th>\n",
       "      <th>FQ4</th>\n",
       "      <th>FQ5</th>\n",
       "      <th>FQ6</th>\n",
       "      <th>...</th>\n",
       "      <th>FQ26</th>\n",
       "      <th>FQ27</th>\n",
       "      <th>FQ28</th>\n",
       "      <th>FQ29</th>\n",
       "      <th>FQ30</th>\n",
       "      <th>FQ31</th>\n",
       "      <th>FQ32</th>\n",
       "      <th>FQ33</th>\n",
       "      <th>FQ34</th>\n",
       "      <th>FQ37</th>\n",
       "    </tr>\n",
       "  </thead>\n",
       "  <tbody>\n",
       "    <tr>\n",
       "      <th>0</th>\n",
       "      <td>ID_000YI58E</td>\n",
       "      <td>39</td>\n",
       "      <td>2</td>\n",
       "      <td>22.0</td>\n",
       "      <td>2</td>\n",
       "      <td>NaN</td>\n",
       "      <td>NaN</td>\n",
       "      <td>2</td>\n",
       "      <td>NaN</td>\n",
       "      <td>1.0</td>\n",
       "      <td>...</td>\n",
       "      <td>2</td>\n",
       "      <td>NaN</td>\n",
       "      <td>NaN</td>\n",
       "      <td>NaN</td>\n",
       "      <td>NaN</td>\n",
       "      <td>NaN</td>\n",
       "      <td>2.0</td>\n",
       "      <td>1.0</td>\n",
       "      <td>1.0</td>\n",
       "      <td>0</td>\n",
       "    </tr>\n",
       "    <tr>\n",
       "      <th>1</th>\n",
       "      <td>ID_001SP4JF</td>\n",
       "      <td>30</td>\n",
       "      <td>2</td>\n",
       "      <td>62.0</td>\n",
       "      <td>1</td>\n",
       "      <td>NaN</td>\n",
       "      <td>NaN</td>\n",
       "      <td>2</td>\n",
       "      <td>NaN</td>\n",
       "      <td>1.0</td>\n",
       "      <td>...</td>\n",
       "      <td>2</td>\n",
       "      <td>NaN</td>\n",
       "      <td>NaN</td>\n",
       "      <td>2.0</td>\n",
       "      <td>NaN</td>\n",
       "      <td>1.0</td>\n",
       "      <td>1.0</td>\n",
       "      <td>1.0</td>\n",
       "      <td>1.0</td>\n",
       "      <td>0</td>\n",
       "    </tr>\n",
       "    <tr>\n",
       "      <th>2</th>\n",
       "      <td>ID_001VOF6S</td>\n",
       "      <td>65</td>\n",
       "      <td>4</td>\n",
       "      <td>35.0</td>\n",
       "      <td>2</td>\n",
       "      <td>1.0</td>\n",
       "      <td>NaN</td>\n",
       "      <td>1</td>\n",
       "      <td>1.0</td>\n",
       "      <td>NaN</td>\n",
       "      <td>...</td>\n",
       "      <td>2</td>\n",
       "      <td>NaN</td>\n",
       "      <td>NaN</td>\n",
       "      <td>NaN</td>\n",
       "      <td>NaN</td>\n",
       "      <td>NaN</td>\n",
       "      <td>NaN</td>\n",
       "      <td>1.0</td>\n",
       "      <td>NaN</td>\n",
       "      <td>0</td>\n",
       "    </tr>\n",
       "    <tr>\n",
       "      <th>3</th>\n",
       "      <td>ID_0030LULG</td>\n",
       "      <td>123</td>\n",
       "      <td>0</td>\n",
       "      <td>24.0</td>\n",
       "      <td>2</td>\n",
       "      <td>1.0</td>\n",
       "      <td>NaN</td>\n",
       "      <td>2</td>\n",
       "      <td>NaN</td>\n",
       "      <td>1.0</td>\n",
       "      <td>...</td>\n",
       "      <td>2</td>\n",
       "      <td>NaN</td>\n",
       "      <td>NaN</td>\n",
       "      <td>2.0</td>\n",
       "      <td>NaN</td>\n",
       "      <td>NaN</td>\n",
       "      <td>NaN</td>\n",
       "      <td>1.0</td>\n",
       "      <td>1.0</td>\n",
       "      <td>1</td>\n",
       "    </tr>\n",
       "    <tr>\n",
       "      <th>4</th>\n",
       "      <td>ID_0037PZ3R</td>\n",
       "      <td>67</td>\n",
       "      <td>2</td>\n",
       "      <td>25.0</td>\n",
       "      <td>2</td>\n",
       "      <td>NaN</td>\n",
       "      <td>NaN</td>\n",
       "      <td>1</td>\n",
       "      <td>NaN</td>\n",
       "      <td>NaN</td>\n",
       "      <td>...</td>\n",
       "      <td>2</td>\n",
       "      <td>NaN</td>\n",
       "      <td>NaN</td>\n",
       "      <td>1.0</td>\n",
       "      <td>NaN</td>\n",
       "      <td>NaN</td>\n",
       "      <td>NaN</td>\n",
       "      <td>2.0</td>\n",
       "      <td>1.0</td>\n",
       "      <td>1</td>\n",
       "    </tr>\n",
       "  </tbody>\n",
       "</table>\n",
       "<p>5 rows × 41 columns</p>\n",
       "</div>"
      ],
      "text/plain": [
       "            ID  country_code  region   age  FQ1  FQ2  FQ3  FQ4  FQ5  FQ6  ...  \\\n",
       "0  ID_000YI58E            39       2  22.0    2  NaN  NaN    2  NaN  1.0  ...   \n",
       "1  ID_001SP4JF            30       2  62.0    1  NaN  NaN    2  NaN  1.0  ...   \n",
       "2  ID_001VOF6S            65       4  35.0    2  1.0  NaN    1  1.0  NaN  ...   \n",
       "3  ID_0030LULG           123       0  24.0    2  1.0  NaN    2  NaN  1.0  ...   \n",
       "4  ID_0037PZ3R            67       2  25.0    2  NaN  NaN    1  NaN  NaN  ...   \n",
       "\n",
       "   FQ26  FQ27  FQ28  FQ29  FQ30  FQ31  FQ32  FQ33  FQ34  FQ37  \n",
       "0     2   NaN   NaN   NaN   NaN   NaN   2.0   1.0   1.0     0  \n",
       "1     2   NaN   NaN   2.0   NaN   1.0   1.0   1.0   1.0     0  \n",
       "2     2   NaN   NaN   NaN   NaN   NaN   NaN   1.0   NaN     0  \n",
       "3     2   NaN   NaN   2.0   NaN   NaN   NaN   1.0   1.0     1  \n",
       "4     2   NaN   NaN   1.0   NaN   NaN   NaN   2.0   1.0     1  \n",
       "\n",
       "[5 rows x 41 columns]"
      ]
     },
     "execution_count": 95,
     "metadata": {},
     "output_type": "execute_result"
    }
   ],
   "source": [
    "# show test data\n",
    "\n",
    "test.head()"
   ]
  },
  {
   "cell_type": "code",
   "execution_count": 96,
   "metadata": {},
   "outputs": [
    {
     "data": {
      "text/plain": [
       "(46477, 41)"
      ]
     },
     "execution_count": 96,
     "metadata": {},
     "output_type": "execute_result"
    }
   ],
   "source": [
    "# shape of the test data\n",
    "\n",
    "test.shape "
   ]
  },
  {
   "cell_type": "code",
   "execution_count": 97,
   "metadata": {},
   "outputs": [
    {
     "data": {
      "text/plain": [
       "ID                   0\n",
       "country_code         0\n",
       "region               0\n",
       "age                322\n",
       "FQ1                  0\n",
       "FQ2              59322\n",
       "FQ3              62228\n",
       "FQ4                  0\n",
       "FQ5              87261\n",
       "FQ6              47787\n",
       "FQ7              47826\n",
       "FQ8                  0\n",
       "FQ9                  0\n",
       "FQ10                 0\n",
       "FQ11             24570\n",
       "FQ12                 0\n",
       "FQ13                 0\n",
       "FQ14                 0\n",
       "FQ15                 0\n",
       "FQ16                 0\n",
       "FQ17             97099\n",
       "FQ18                 0\n",
       "FQ19             47407\n",
       "FQ20             24679\n",
       "FQ21             24635\n",
       "FQ22                 0\n",
       "FQ23                 0\n",
       "FQ24             70014\n",
       "FQ35             82557\n",
       "FQ36             96963\n",
       "FQ25                 0\n",
       "FQ26                 0\n",
       "FQ27            105246\n",
       "FQ28            106940\n",
       "FQ29             24534\n",
       "FQ30            106331\n",
       "FQ31            107577\n",
       "FQ32             47650\n",
       "FQ33                 2\n",
       "FQ34             31794\n",
       "FQ37                 0\n",
       "Target               0\n",
       "dtype: int64"
      ]
     },
     "execution_count": 97,
     "metadata": {},
     "output_type": "execute_result"
    }
   ],
   "source": [
    "#check if you have any missing data in the train data\n",
    "\n",
    "train.isnull().sum() "
   ]
  },
  {
   "cell_type": "code",
   "execution_count": 98,
   "metadata": {},
   "outputs": [
    {
     "data": {
      "text/plain": [
       "ID                   0\n",
       "country_code         0\n",
       "region               0\n",
       "age                322\n",
       "FQ1                  0\n",
       "FQ2              59322\n",
       "FQ3              62228\n",
       "FQ4                  0\n",
       "FQ5              87261\n",
       "FQ6              47787\n",
       "FQ7              47826\n",
       "FQ8                  0\n",
       "FQ9                  0\n",
       "FQ10                 0\n",
       "FQ11             24570\n",
       "FQ12                 0\n",
       "FQ13                 0\n",
       "FQ14                 0\n",
       "FQ15                 0\n",
       "FQ16                 0\n",
       "FQ17             97099\n",
       "FQ18                 0\n",
       "FQ19             47407\n",
       "FQ20             24679\n",
       "FQ21             24635\n",
       "FQ22                 0\n",
       "FQ23                 0\n",
       "FQ24             70014\n",
       "FQ35             82557\n",
       "FQ36             96963\n",
       "FQ25                 0\n",
       "FQ26                 0\n",
       "FQ27            105246\n",
       "FQ28            106940\n",
       "FQ29             24534\n",
       "FQ30            106331\n",
       "FQ31            107577\n",
       "FQ32             47650\n",
       "FQ33                 2\n",
       "FQ34             31794\n",
       "FQ37                 0\n",
       "Target               0\n",
       "dtype: int64"
      ]
     },
     "execution_count": 98,
     "metadata": {},
     "output_type": "execute_result"
    }
   ],
   "source": [
    "#check if you have any missing data in the train data\n",
    "\n",
    "train.isnull().sum() "
   ]
  },
  {
   "cell_type": "code",
   "execution_count": 99,
   "metadata": {},
   "outputs": [],
   "source": [
    "# function rate nans\n",
    "\n",
    "def nans_rate(train,col) :\n",
    "    return train[col].isna().sum() / train.shape[0]\n",
    "\n",
    "# function to remove nans\n",
    "def remove_nans(train,thresh) :\n",
    "    for col in train.columns : \n",
    "        if nans_rate(train,col) >= thresh :\n",
    "            train.drop(col,axis=1,inplace=True)\n",
    "    return train"
   ]
  },
  {
   "cell_type": "code",
   "execution_count": 100,
   "metadata": {
    "id": "bb_7BGBHaEn1"
   },
   "outputs": [],
   "source": [
    "# set threshod = 0.8\n",
    "\n",
    "train = remove_nans(train,thresh=0.8)\n",
    "test = test[train.columns[:-1]]"
   ]
  },
  {
   "cell_type": "code",
   "execution_count": 101,
   "metadata": {},
   "outputs": [
    {
     "data": {
      "text/plain": [
       "ID                  0\n",
       "country_code        0\n",
       "region              0\n",
       "age               322\n",
       "FQ1                 0\n",
       "FQ2             59322\n",
       "FQ3             62228\n",
       "FQ4                 0\n",
       "FQ6             47787\n",
       "FQ7             47826\n",
       "FQ8                 0\n",
       "FQ9                 0\n",
       "FQ10                0\n",
       "FQ11            24570\n",
       "FQ12                0\n",
       "FQ13                0\n",
       "FQ14                0\n",
       "FQ15                0\n",
       "FQ16                0\n",
       "FQ18                0\n",
       "FQ19            47407\n",
       "FQ20            24679\n",
       "FQ21            24635\n",
       "FQ22                0\n",
       "FQ23                0\n",
       "FQ24            70014\n",
       "FQ35            82557\n",
       "FQ25                0\n",
       "FQ26                0\n",
       "FQ29            24534\n",
       "FQ32            47650\n",
       "FQ33                2\n",
       "FQ34            31794\n",
       "FQ37                0\n",
       "Target              0\n",
       "dtype: int64"
      ]
     },
     "execution_count": 101,
     "metadata": {},
     "output_type": "execute_result"
    }
   ],
   "source": [
    "#check again missing values \n",
    "\n",
    "train.isnull().sum() "
   ]
  },
  {
   "cell_type": "code",
   "execution_count": 102,
   "metadata": {},
   "outputs": [],
   "source": [
    "# function to clean data\n",
    "\n",
    "def clean_data(data):\n",
    "    data[\"age\"].fillna(data.age.mean(),inplace=True)\n",
    "    \n",
    "    FQ = data.filter(like= 'FQ').columns\n",
    "    \n",
    "    for column in FQ:\n",
    "        data[column] = data[column].fillna(-1)\n",
    "        data[column] = data[column].astype('int')\n",
    "    \n",
    "    return data\n",
    "    "
   ]
  },
  {
   "cell_type": "code",
   "execution_count": 103,
   "metadata": {
    "id": "hkgwPOXgxnCO"
   },
   "outputs": [],
   "source": [
    "# clean train and test data\n",
    "\n",
    "train = clean_data(train)\n",
    "test = clean_data(test)"
   ]
  },
  {
   "cell_type": "code",
   "execution_count": 104,
   "metadata": {},
   "outputs": [
    {
     "data": {
      "text/plain": [
       "ID              0\n",
       "country_code    0\n",
       "region          0\n",
       "age             0\n",
       "FQ1             0\n",
       "FQ2             0\n",
       "FQ3             0\n",
       "FQ4             0\n",
       "FQ6             0\n",
       "FQ7             0\n",
       "FQ8             0\n",
       "FQ9             0\n",
       "FQ10            0\n",
       "FQ11            0\n",
       "FQ12            0\n",
       "FQ13            0\n",
       "FQ14            0\n",
       "FQ15            0\n",
       "FQ16            0\n",
       "FQ18            0\n",
       "FQ19            0\n",
       "FQ20            0\n",
       "FQ21            0\n",
       "FQ22            0\n",
       "FQ23            0\n",
       "FQ24            0\n",
       "FQ35            0\n",
       "FQ25            0\n",
       "FQ26            0\n",
       "FQ29            0\n",
       "FQ32            0\n",
       "FQ33            0\n",
       "FQ34            0\n",
       "FQ37            0\n",
       "Target          0\n",
       "dtype: int64"
      ]
     },
     "execution_count": 104,
     "metadata": {},
     "output_type": "execute_result"
    }
   ],
   "source": [
    "#check again missing data in train\n",
    "\n",
    "train.isnull().sum() "
   ]
  },
  {
   "cell_type": "code",
   "execution_count": 105,
   "metadata": {},
   "outputs": [
    {
     "data": {
      "text/plain": [
       "ID              0\n",
       "country_code    0\n",
       "region          0\n",
       "age             0\n",
       "FQ1             0\n",
       "FQ2             0\n",
       "FQ3             0\n",
       "FQ4             0\n",
       "FQ6             0\n",
       "FQ7             0\n",
       "FQ8             0\n",
       "FQ9             0\n",
       "FQ10            0\n",
       "FQ11            0\n",
       "FQ12            0\n",
       "FQ13            0\n",
       "FQ14            0\n",
       "FQ15            0\n",
       "FQ16            0\n",
       "FQ18            0\n",
       "FQ19            0\n",
       "FQ20            0\n",
       "FQ21            0\n",
       "FQ22            0\n",
       "FQ23            0\n",
       "FQ24            0\n",
       "FQ35            0\n",
       "FQ25            0\n",
       "FQ26            0\n",
       "FQ29            0\n",
       "FQ32            0\n",
       "FQ33            0\n",
       "FQ34            0\n",
       "FQ37            0\n",
       "Target          0\n",
       "dtype: int64"
      ]
     },
     "execution_count": 105,
     "metadata": {},
     "output_type": "execute_result"
    }
   ],
   "source": [
    "#check again missing data in test\n",
    "\n",
    "train.isnull().sum() "
   ]
  },
  {
   "cell_type": "code",
   "execution_count": 106,
   "metadata": {
    "id": "9RGsf_j8x0wE"
   },
   "outputs": [],
   "source": [
    "#remove ID and country_code on both train and test \n",
    "\n",
    "train = train.drop(['ID','country_code'],axis=1)\n",
    "test = test.drop(['ID','country_code'],axis=1)"
   ]
  },
  {
   "cell_type": "code",
   "execution_count": 107,
   "metadata": {},
   "outputs": [],
   "source": [
    "#split train dada into target and feature\n",
    "\n",
    "X = train.drop(['Target'],axis=1)\n",
    "y = train.Target"
   ]
  },
  {
   "cell_type": "code",
   "execution_count": 108,
   "metadata": {
    "colab": {
     "base_uri": "https://localhost:8080/",
     "height": 224
    },
    "id": "EI5zEfF71Cpu",
    "outputId": "5dda5104-cede-49bd-f590-34c1b0eaef74"
   },
   "outputs": [],
   "source": [
    "# process the data \n",
    "scaler = StandardScaler() \n",
    "\n",
    "scaler.fit(X)\n",
    "\n",
    "#transform train set \n",
    "X_scaled = scaler.transform(X)\n",
    "\n",
    "\n",
    "#transform test set \n",
    "test_scaled = scaler.transform(test)"
   ]
  },
  {
   "cell_type": "code",
   "execution_count": 109,
   "metadata": {},
   "outputs": [],
   "source": [
    "# split train data into train and validate\n",
    "\n",
    "X_train, X_valid, y_train, y_valid = train_test_split(\n",
    "    X_scaled,\n",
    "    y,\n",
    "    test_size=0.20,\n",
    "    random_state=42,\n",
    "    shuffle=True,\n",
    "    stratify=y,\n",
    ")"
   ]
  },
  {
   "cell_type": "code",
   "execution_count": 110,
   "metadata": {},
   "outputs": [
    {
     "data": {
      "text/plain": [
       "RandomForestClassifier()"
      ]
     },
     "execution_count": 110,
     "metadata": {},
     "output_type": "execute_result"
    }
   ],
   "source": [
    "# Train classifier \n",
    "\n",
    "classifier = RandomForestClassifier()\n",
    "\n",
    "classifier.fit(X_train,y_train)"
   ]
  },
  {
   "cell_type": "code",
   "execution_count": 112,
   "metadata": {},
   "outputs": [
    {
     "data": {
      "text/plain": [
       "0.49915395859065026"
      ]
     },
     "execution_count": 112,
     "metadata": {},
     "output_type": "execute_result"
    }
   ],
   "source": [
    "# measure classifier performance\n",
    "roc_auc_score(y_valid, classifier.predict_proba(X_valid)[:, 1])"
   ]
  },
  {
   "cell_type": "code",
   "execution_count": 113,
   "metadata": {
    "id": "VfKa1n4LAPwY"
   },
   "outputs": [],
   "source": [
    "# make prediction on the test set \n",
    "test_preds = classifier.predict_proba(test)[:, 1]"
   ]
  },
  {
   "cell_type": "code",
   "execution_count": 114,
   "metadata": {
    "id": "sfJFro17Ata4"
   },
   "outputs": [],
   "source": [
    "# create submission dataframe\n",
    "Submission = pd.DataFrame({'ID' :submission.ID ,'Target' :test_preds})"
   ]
  },
  {
   "cell_type": "code",
   "execution_count": 115,
   "metadata": {
    "colab": {
     "base_uri": "https://localhost:8080/",
     "height": 297
    },
    "id": "1QUPH4pE4KYt",
    "outputId": "809853ac-7eac-422d-a145-167a916098b2"
   },
   "outputs": [
    {
     "data": {
      "text/html": [
       "<div>\n",
       "<style scoped>\n",
       "    .dataframe tbody tr th:only-of-type {\n",
       "        vertical-align: middle;\n",
       "    }\n",
       "\n",
       "    .dataframe tbody tr th {\n",
       "        vertical-align: top;\n",
       "    }\n",
       "\n",
       "    .dataframe thead th {\n",
       "        text-align: right;\n",
       "    }\n",
       "</style>\n",
       "<table border=\"1\" class=\"dataframe\">\n",
       "  <thead>\n",
       "    <tr style=\"text-align: right;\">\n",
       "      <th></th>\n",
       "      <th>ID</th>\n",
       "      <th>Target</th>\n",
       "    </tr>\n",
       "  </thead>\n",
       "  <tbody>\n",
       "    <tr>\n",
       "      <th>0</th>\n",
       "      <td>ID_000YI58E</td>\n",
       "      <td>0.44</td>\n",
       "    </tr>\n",
       "    <tr>\n",
       "      <th>1</th>\n",
       "      <td>ID_001SP4JF</td>\n",
       "      <td>0.43</td>\n",
       "    </tr>\n",
       "    <tr>\n",
       "      <th>2</th>\n",
       "      <td>ID_001VOF6S</td>\n",
       "      <td>0.48</td>\n",
       "    </tr>\n",
       "    <tr>\n",
       "      <th>3</th>\n",
       "      <td>ID_0030LULG</td>\n",
       "      <td>0.39</td>\n",
       "    </tr>\n",
       "    <tr>\n",
       "      <th>4</th>\n",
       "      <td>ID_0037PZ3R</td>\n",
       "      <td>0.45</td>\n",
       "    </tr>\n",
       "  </tbody>\n",
       "</table>\n",
       "</div>"
      ],
      "text/plain": [
       "            ID  Target\n",
       "0  ID_000YI58E    0.44\n",
       "1  ID_001SP4JF    0.43\n",
       "2  ID_001VOF6S    0.48\n",
       "3  ID_0030LULG    0.39\n",
       "4  ID_0037PZ3R    0.45"
      ]
     },
     "execution_count": 115,
     "metadata": {},
     "output_type": "execute_result"
    }
   ],
   "source": [
    "# show sample of the submission data\n",
    "Submission.head()"
   ]
  },
  {
   "cell_type": "code",
   "execution_count": 116,
   "metadata": {
    "id": "OgoTHhRSAvkr"
   },
   "outputs": [],
   "source": [
    "# save submission into scv file\n",
    "Submission.to_csv('data/first_submission.csv',index=False)"
   ]
  },
  {
   "cell_type": "code",
   "execution_count": null,
   "metadata": {},
   "outputs": [],
   "source": []
  }
 ],
 "metadata": {
  "accelerator": "GPU",
  "colab": {
   "collapsed_sections": [],
   "name": "Solution.ipynb",
   "provenance": []
  },
  "kernelspec": {
   "display_name": "Python 3",
   "language": "python",
   "name": "python3"
  },
  "language_info": {
   "codemirror_mode": {
    "name": "ipython",
    "version": 3
   },
   "file_extension": ".py",
   "mimetype": "text/x-python",
   "name": "python",
   "nbconvert_exporter": "python",
   "pygments_lexer": "ipython3",
   "version": "3.8.5"
  },
  "widgets": {
   "application/vnd.jupyter.widget-state+json": {
    "4556e2737f584ccbb05aaf1e1664e03c": {
     "model_module": "@jupyter-widgets/controls",
     "model_name": "FloatProgressModel",
     "state": {
      "_dom_classes": [],
      "_model_module": "@jupyter-widgets/controls",
      "_model_module_version": "1.5.0",
      "_model_name": "FloatProgressModel",
      "_view_count": null,
      "_view_module": "@jupyter-widgets/controls",
      "_view_module_version": "1.5.0",
      "_view_name": "ProgressView",
      "bar_style": "success",
      "description": "100%",
      "description_tooltip": null,
      "layout": "IPY_MODEL_d10e12466c7649b690226ffeab1a8efe",
      "max": 9,
      "min": 0,
      "orientation": "horizontal",
      "style": "IPY_MODEL_7fb527f685ca44a7a59302df6bcd2864",
      "value": 9
     }
    },
    "56560fdc4ac941bf83f009d1f79134c1": {
     "model_module": "@jupyter-widgets/controls",
     "model_name": "HBoxModel",
     "state": {
      "_dom_classes": [],
      "_model_module": "@jupyter-widgets/controls",
      "_model_module_version": "1.5.0",
      "_model_name": "HBoxModel",
      "_view_count": null,
      "_view_module": "@jupyter-widgets/controls",
      "_view_module_version": "1.5.0",
      "_view_name": "HBoxView",
      "box_style": "",
      "children": [
       "IPY_MODEL_4556e2737f584ccbb05aaf1e1664e03c",
       "IPY_MODEL_9b07c2897f73432fb63a45f4cd3042a6"
      ],
      "layout": "IPY_MODEL_cdc4975b72f34004aa0a300d54b4ffb3"
     }
    },
    "6469ff2f42ce4f53916bdeef640c2956": {
     "model_module": "@jupyter-widgets/base",
     "model_name": "LayoutModel",
     "state": {
      "_model_module": "@jupyter-widgets/base",
      "_model_module_version": "1.2.0",
      "_model_name": "LayoutModel",
      "_view_count": null,
      "_view_module": "@jupyter-widgets/base",
      "_view_module_version": "1.2.0",
      "_view_name": "LayoutView",
      "align_content": null,
      "align_items": null,
      "align_self": null,
      "border": null,
      "bottom": null,
      "display": null,
      "flex": null,
      "flex_flow": null,
      "grid_area": null,
      "grid_auto_columns": null,
      "grid_auto_flow": null,
      "grid_auto_rows": null,
      "grid_column": null,
      "grid_gap": null,
      "grid_row": null,
      "grid_template_areas": null,
      "grid_template_columns": null,
      "grid_template_rows": null,
      "height": null,
      "justify_content": null,
      "justify_items": null,
      "left": null,
      "margin": null,
      "max_height": null,
      "max_width": null,
      "min_height": null,
      "min_width": null,
      "object_fit": null,
      "object_position": null,
      "order": null,
      "overflow": null,
      "overflow_x": null,
      "overflow_y": null,
      "padding": null,
      "right": null,
      "top": null,
      "visibility": null,
      "width": null
     }
    },
    "7fb527f685ca44a7a59302df6bcd2864": {
     "model_module": "@jupyter-widgets/controls",
     "model_name": "ProgressStyleModel",
     "state": {
      "_model_module": "@jupyter-widgets/controls",
      "_model_module_version": "1.5.0",
      "_model_name": "ProgressStyleModel",
      "_view_count": null,
      "_view_module": "@jupyter-widgets/base",
      "_view_module_version": "1.2.0",
      "_view_name": "StyleView",
      "bar_color": null,
      "description_width": "initial"
     }
    },
    "9b07c2897f73432fb63a45f4cd3042a6": {
     "model_module": "@jupyter-widgets/controls",
     "model_name": "HTMLModel",
     "state": {
      "_dom_classes": [],
      "_model_module": "@jupyter-widgets/controls",
      "_model_module_version": "1.5.0",
      "_model_name": "HTMLModel",
      "_view_count": null,
      "_view_module": "@jupyter-widgets/controls",
      "_view_module_version": "1.5.0",
      "_view_name": "HTMLView",
      "description": "",
      "description_tooltip": null,
      "layout": "IPY_MODEL_6469ff2f42ce4f53916bdeef640c2956",
      "placeholder": "​",
      "style": "IPY_MODEL_9d5a06482fc74f87b1c11642bdeca26c",
      "value": " 9/9 [00:20&lt;00:00,  2.29s/it]"
     }
    },
    "9d5a06482fc74f87b1c11642bdeca26c": {
     "model_module": "@jupyter-widgets/controls",
     "model_name": "DescriptionStyleModel",
     "state": {
      "_model_module": "@jupyter-widgets/controls",
      "_model_module_version": "1.5.0",
      "_model_name": "DescriptionStyleModel",
      "_view_count": null,
      "_view_module": "@jupyter-widgets/base",
      "_view_module_version": "1.2.0",
      "_view_name": "StyleView",
      "description_width": ""
     }
    },
    "cdc4975b72f34004aa0a300d54b4ffb3": {
     "model_module": "@jupyter-widgets/base",
     "model_name": "LayoutModel",
     "state": {
      "_model_module": "@jupyter-widgets/base",
      "_model_module_version": "1.2.0",
      "_model_name": "LayoutModel",
      "_view_count": null,
      "_view_module": "@jupyter-widgets/base",
      "_view_module_version": "1.2.0",
      "_view_name": "LayoutView",
      "align_content": null,
      "align_items": null,
      "align_self": null,
      "border": null,
      "bottom": null,
      "display": null,
      "flex": null,
      "flex_flow": null,
      "grid_area": null,
      "grid_auto_columns": null,
      "grid_auto_flow": null,
      "grid_auto_rows": null,
      "grid_column": null,
      "grid_gap": null,
      "grid_row": null,
      "grid_template_areas": null,
      "grid_template_columns": null,
      "grid_template_rows": null,
      "height": null,
      "justify_content": null,
      "justify_items": null,
      "left": null,
      "margin": null,
      "max_height": null,
      "max_width": null,
      "min_height": null,
      "min_width": null,
      "object_fit": null,
      "object_position": null,
      "order": null,
      "overflow": null,
      "overflow_x": null,
      "overflow_y": null,
      "padding": null,
      "right": null,
      "top": null,
      "visibility": null,
      "width": null
     }
    },
    "d10e12466c7649b690226ffeab1a8efe": {
     "model_module": "@jupyter-widgets/base",
     "model_name": "LayoutModel",
     "state": {
      "_model_module": "@jupyter-widgets/base",
      "_model_module_version": "1.2.0",
      "_model_name": "LayoutModel",
      "_view_count": null,
      "_view_module": "@jupyter-widgets/base",
      "_view_module_version": "1.2.0",
      "_view_name": "LayoutView",
      "align_content": null,
      "align_items": null,
      "align_self": null,
      "border": null,
      "bottom": null,
      "display": null,
      "flex": null,
      "flex_flow": null,
      "grid_area": null,
      "grid_auto_columns": null,
      "grid_auto_flow": null,
      "grid_auto_rows": null,
      "grid_column": null,
      "grid_gap": null,
      "grid_row": null,
      "grid_template_areas": null,
      "grid_template_columns": null,
      "grid_template_rows": null,
      "height": null,
      "justify_content": null,
      "justify_items": null,
      "left": null,
      "margin": null,
      "max_height": null,
      "max_width": null,
      "min_height": null,
      "min_width": null,
      "object_fit": null,
      "object_position": null,
      "order": null,
      "overflow": null,
      "overflow_x": null,
      "overflow_y": null,
      "padding": null,
      "right": null,
      "top": null,
      "visibility": null,
      "width": null
     }
    }
   }
  }
 },
 "nbformat": 4,
 "nbformat_minor": 4
}
